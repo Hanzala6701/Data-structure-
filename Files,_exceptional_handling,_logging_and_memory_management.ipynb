{
  "nbformat": 4,
  "nbformat_minor": 0,
  "metadata": {
    "colab": {
      "provenance": [],
      "authorship_tag": "ABX9TyN6dIkRHDeRP6FSSbGhxTlm",
      "include_colab_link": true
    },
    "kernelspec": {
      "name": "python3",
      "display_name": "Python 3"
    },
    "language_info": {
      "name": "python"
    }
  },
  "cells": [
    {
      "cell_type": "markdown",
      "metadata": {
        "id": "view-in-github",
        "colab_type": "text"
      },
      "source": [
        "<a href=\"https://colab.research.google.com/github/Hanzala6701/Data-structure-/blob/main/Files%2C_exceptional_handling%2C_logging_and_memory_management.ipynb\" target=\"_parent\"><img src=\"https://colab.research.google.com/assets/colab-badge.svg\" alt=\"Open In Colab\"/></a>"
      ]
    },
    {
      "cell_type": "markdown",
      "source": [
        "1)What is the difference between interpreted and compiled languages?\n",
        "- Compiled languages are translated into machine code (or an intermediate representation) all at once before runtime, while interpreted languages are executed line by line by an interpreter during runtime."
      ],
      "metadata": {
        "id": "UJc77ZQpOjkv"
      }
    },
    {
      "cell_type": "markdown",
      "source": [
        "2) What is exception handling in Python?\n",
        "- Exception handling in Python is a mechanism used to manage runtime errors, known as exceptions, that occur during the execution of a program."
      ],
      "metadata": {
        "id": "zApoYs2kPACR"
      }
    },
    {
      "cell_type": "markdown",
      "source": [
        "3) What is the purpose of the finally block in exception handling?\n",
        "- Its primary purpose is to provide a mechanism for resource cleanup and guaranteeing the execution of essential code, such as closing files or releasing network connections."
      ],
      "metadata": {
        "id": "_DBITmpSPHU0"
      }
    },
    {
      "cell_type": "markdown",
      "source": [
        "4) What is logging in Python?\n",
        "- Logging in Python refers to the process of recording events that occur during the execution of a software program."
      ],
      "metadata": {
        "id": "bFkSH-QJPQ1h"
      }
    },
    {
      "cell_type": "markdown",
      "source": [
        "5) What is the significance of the_del__ method in Python?\n",
        "\n",
        "- The __del__ method in Python, often referred to as a destructor, holds significance in object-oriented programming for resource management and cleanup."
      ],
      "metadata": {
        "id": "mYbrSxYbPeDC"
      }
    },
    {
      "cell_type": "markdown",
      "source": [
        "6) What is the difference between import and from... import in Python?\n",
        "- In Python, both import and from...import statements are used to bring modules or specific components of modules into the current namespace."
      ],
      "metadata": {
        "id": "Ur8fxpLYPqfR"
      }
    },
    {
      "cell_type": "markdown",
      "source": [
        "7) How can you handle multiple exceptions in Python?\n",
        "-  In Python, multiple exceptions can be handled within a try-except block in several ways."
      ],
      "metadata": {
        "id": "E94y_n_4Pvt4"
      }
    },
    {
      "cell_type": "markdown",
      "source": [
        "8) What is the purpose of the with statement when handling files in Python?\n",
        "- The primary purpose of the with statement when handling files in Python is to ensure proper resource management, specifically the automatic closing of the file once operations within the with block are completed."
      ],
      "metadata": {
        "id": "D_S89XbrP1RW"
      }
    },
    {
      "cell_type": "markdown",
      "source": [
        "9) What is the difference between multithreading and multiprocessing?\n",
        "- Multithreading involves multiple threads within a single process, sharing the same memory space, while multiprocessing involves multiple independent processes, each with its own memory space."
      ],
      "metadata": {
        "id": "fZjZdhwqP7FI"
      }
    },
    {
      "cell_type": "markdown",
      "source": [
        "10) What are the advantages of using logging in a program?\n",
        "- Logging offers numerous advantages in programming, primarily aiding in debugging, performance monitoring, and security."
      ],
      "metadata": {
        "id": "mfpl6ZJOQAiC"
      }
    },
    {
      "cell_type": "markdown",
      "source": [
        "11) What is memory management in Python?\n",
        "- Memory management in Python refers to the system that handles the allocation and deallocation of memory resources used by Python programs."
      ],
      "metadata": {
        "id": "4VKDUM7yQF00"
      }
    },
    {
      "cell_type": "markdown",
      "source": [
        "12)  What are the basic steps involved in exception handling in Python?\n",
        "- The basic steps involved in exception handling in Python using try, except, else, and finally blocks are as follows."
      ],
      "metadata": {
        "id": "mMGE8ChqQLWl"
      }
    },
    {
      "cell_type": "markdown",
      "source": [
        "13)Why is memory management important in Python?\n",
        "- Memory management is important in Python, despite its automatic nature, for several key reasons. Efficiency and Performance, Preventing Memory Leaks, Resource Optimization, Debugging and Troubleshooting, Optimizing for Specific Scenarios."
      ],
      "metadata": {
        "id": "Ehbq5uzOQQne"
      }
    },
    {
      "cell_type": "markdown",
      "source": [
        "14) What is the role of try and except in exception handling?\n",
        "-  In Python, the try and except statements are fundamental for exception handling, which allows a program to gracefully manage errors that occur during execution."
      ],
      "metadata": {
        "id": "Bd7XkdcfQWma"
      }
    },
    {
      "cell_type": "markdown",
      "source": [
        "15) How does Python's garbage collection system work?\n",
        "- Python's garbage collection system automatically reclaims memory occupied by objects that are no longer in use, preventing memory leaks."
      ],
      "metadata": {
        "id": "QDgJr_KkQkzc"
      }
    },
    {
      "cell_type": "markdown",
      "source": [
        "16) What is the purpose of the else block in exception handling?\n",
        "- The purpose of the else block in Python's exception handling is to define a section of code that should run only if no exceptions were raised in the try block."
      ],
      "metadata": {
        "id": "xFYqecRBQvyL"
      }
    },
    {
      "cell_type": "markdown",
      "source": [
        "17)  What are the common logging levels in Python?\n",
        "- Python's built-in logging module defines several standard logging levels, each representing a different severity of an event."
      ],
      "metadata": {
        "id": "Mo0nEhXpRAhf"
      }
    },
    {
      "cell_type": "markdown",
      "source": [
        "18) What is the difference between os.fork() and multiprocessing in Python?\n",
        "- The os.fork() function and the multiprocessing module in Python both enable the creation of new processes, but they differ significantly in their implementation, portability, and features."
      ],
      "metadata": {
        "id": "gfEnu_Z8RKZF"
      }
    },
    {
      "cell_type": "markdown",
      "source": [
        "19) What is the importance of closing a file in Python?\n",
        "\n",
        "- Closing a file in Python is crucial for several reasons, primarily related to resource management, data integrity, and avoiding potential issues."
      ],
      "metadata": {
        "id": "2ab6iOyvRcN-"
      }
    },
    {
      "cell_type": "markdown",
      "source": [
        "20) What is the difference between file.read() and file.readline() in Python?\n",
        "-  In Python, file.read() and file.readline() are both methods used to read data from a file object, but they differ in how much data they retrieve."
      ],
      "metadata": {
        "id": "AUWgKDE6RiYj"
      }
    },
    {
      "cell_type": "markdown",
      "source": [
        "21)  What is the logging module in Python used for?\n",
        "- The logging module in Python is used to track events and messages during program execution, facilitating debugging, error tracking, and monitoring application behavior."
      ],
      "metadata": {
        "id": "xyfYvqzdRobD"
      }
    },
    {
      "cell_type": "markdown",
      "source": [
        "22) What is the os module in Python used for in file handling?\n",
        "- The Python OS module is essential for file-related tasks, enabling efficient file and directory management in programs."
      ],
      "metadata": {
        "id": "q2xQy7ygRsyU"
      }
    },
    {
      "cell_type": "markdown",
      "source": [
        "23) What are the challenges associated with memory management in Python?\n",
        "- Python's automatic memory management, while convenient, presents several challenges. Memory Leaks from Circular References, High Memory Consumption, Performance Overhead of Garbage Collection, Limited Control and Debugging, Memory Fragmentation."
      ],
      "metadata": {
        "id": "l5j3GwZARyhu"
      }
    },
    {
      "cell_type": "markdown",
      "source": [
        "24) How do you raise an exception manually in Python?\n",
        "- To raise an exception manually in Python, the raise keyword is used. This allows for explicit error handling and can be used with built-in exception types or custom-defined exceptions."
      ],
      "metadata": {
        "id": "n4Sk-0FER8AP"
      }
    },
    {
      "cell_type": "markdown",
      "source": [
        "25) Why is it important to use multithreading in certain applications?\n",
        "- Multithreading is important for applications where multiple tasks need to be performed concurrently, enhancing performance, responsiveness, and resource utilization."
      ],
      "metadata": {
        "id": "SbauIoRJSBaP"
      }
    },
    {
      "cell_type": "code",
      "execution_count": null,
      "metadata": {
        "id": "YqsOKgwwUqXD"
      },
      "outputs": [],
      "source": [
        "# 1) How can you open a file for writing in Python and write a string to it?\n",
        "\n",
        "# Open the file in write mode\n",
        "with open(\"example.txt\", \"w\") as file:\n",
        "    file.write(\"Hello, this is a string written to the file.\")"
      ]
    },
    {
      "cell_type": "code",
      "source": [
        "# 2) Write a Python program to read the contents of a file and print each line.\n",
        "\n",
        "def read_and_print_file(file_path):\n",
        "    \"\"\"\n",
        "    Reads the contents of a specified file line by line and prints each line.\n",
        "\n",
        "    Args:\n",
        "        file_path (str): The path to the file to be read.\n",
        "    \"\"\"\n",
        "    try:\n",
        "        with open(file_path, 'r') as file:\n",
        "            for line in file:\n",
        "                print(line.strip())  # .strip() removes leading/trailing whitespace, including newlines\n",
        "    except FileNotFoundError:\n",
        "        print(f\"Error: The file '{file_path}' was not found.\")\n",
        "    except Exception as e:\n",
        "        print(f\"An unexpected error occurred: {e}\")\n",
        "\n",
        "# Example usage:\n",
        "# Create a dummy file for demonstration\n",
        "with open(\"sample.txt\", \"w\") as f:\n",
        "    f.write(\"This is line 1.\\n\")\n",
        "    f.write(\"This is line 2.\\n\")\n",
        "    f.write(\"This is line 3.\")\n",
        "\n",
        "# Call the function to read and print the file\n",
        "read_and_print_file(\"sample.txt\")\n",
        "\n",
        "# Example of handling a non-existent file\n",
        "read_and_print_file(\"non_existent_file.txt\")"
      ],
      "metadata": {
        "colab": {
          "base_uri": "https://localhost:8080/"
        },
        "id": "roVDZg66WAJx",
        "outputId": "2ad418e1-5f84-4f4e-ff48-db69d6aede90"
      },
      "execution_count": null,
      "outputs": [
        {
          "output_type": "stream",
          "name": "stdout",
          "text": [
            "This is line 1.\n",
            "This is line 2.\n",
            "This is line 3.\n",
            "Error: The file 'non_existent_file.txt' was not found.\n"
          ]
        }
      ]
    },
    {
      "cell_type": "code",
      "source": [
        "# 3) How would you handle a case where the file doesn't exist while trying to open it for reading?\n",
        "\n",
        "filename = \"data.txt\"\n",
        "\n",
        "try:\n",
        "    with open(filename, \"r\") as file:\n",
        "        content = file.read()\n",
        "        print(content)\n",
        "except FileNotFoundError:\n",
        "    print(f\"Error: The file '{filename}' was not found.\")"
      ],
      "metadata": {
        "colab": {
          "base_uri": "https://localhost:8080/"
        },
        "id": "TKOVuIGLW42q",
        "outputId": "54000ea3-98bb-4365-96e2-e05fafea27ec"
      },
      "execution_count": null,
      "outputs": [
        {
          "output_type": "stream",
          "name": "stdout",
          "text": [
            "Error: The file 'data.txt' was not found.\n"
          ]
        }
      ]
    },
    {
      "cell_type": "code",
      "source": [
        "# 4) Write a Python script that reads from one file and writes its content to another file.\n",
        "\n",
        "# Define source and destination file names\n",
        "source_file = \"source.txt\"\n",
        "destination_file = \"destination.txt\"\n",
        "\n",
        "try:\n",
        "    # Open the source file in read mode\n",
        "    with open(source_file, 'r') as src:\n",
        "        content = src.read()\n",
        "\n",
        "    # Open the destination file in write mode\n",
        "    with open(destination_file, 'w') as dest:\n",
        "        dest.write(content)\n",
        "\n",
        "    print(f\"Content successfully copied from '{source_file}' to '{destination_file}'.\")\n",
        "\n",
        "except FileNotFoundError:\n",
        "    print(f\"Error: The file '{source_file}' does not exist.\")\n",
        "except IOError as e:\n",
        "    print(f\"An I/O error occurred: {e}\")"
      ],
      "metadata": {
        "colab": {
          "base_uri": "https://localhost:8080/"
        },
        "id": "CbTH1GH9Zdrp",
        "outputId": "9fef3825-30bc-4e4a-98ca-a8f59671f0b3"
      },
      "execution_count": null,
      "outputs": [
        {
          "output_type": "stream",
          "name": "stdout",
          "text": [
            "Error: The file 'source.txt' does not exist.\n"
          ]
        }
      ]
    },
    {
      "cell_type": "code",
      "source": [
        "# 5) How would you catch and handle division by zero error in Python?\n",
        "try:\n",
        "    numerator = 10\n",
        "    denominator = 0\n",
        "    result = numerator / denominator\n",
        "    print(\"Result:\", result)\n",
        "except ZeroDivisionError:\n",
        "    print(\"Error: Cannot divide by zero.\")"
      ],
      "metadata": {
        "colab": {
          "base_uri": "https://localhost:8080/"
        },
        "id": "_WEwmhTUaDR0",
        "outputId": "e8f480b1-a9a8-4a21-aca0-9619983a5b03"
      },
      "execution_count": null,
      "outputs": [
        {
          "output_type": "stream",
          "name": "stdout",
          "text": [
            "Error: Cannot divide by zero.\n"
          ]
        }
      ]
    },
    {
      "cell_type": "code",
      "source": [
        "# 6) Write a Python program that logs an error message to a log file when a division by zero exception occurs.\n",
        "\n",
        "import logging\n",
        "\n",
        "# Configure logging\n",
        "logging.basicConfig(filename='error_log.txt', level=logging.ERROR,\n",
        "                    format='%(asctime)s - %(levelname)s - %(message)s')\n",
        "\n",
        "# Example division function\n",
        "def divide(a, b):\n",
        "    try:\n",
        "        result = a / b\n",
        "        print(\"Result:\", result)\n",
        "    except ZeroDivisionError:\n",
        "        print(\"Error: Division by zero is not allowed.\")\n",
        "        logging.error(\"Attempted to divide by zero. a=%s, b=%s\", a, b)\n",
        "\n",
        "# Example usage\n",
        "numerator = 10\n",
        "denominator = 0\n",
        "\n",
        "divide(numerator, denominator)"
      ],
      "metadata": {
        "colab": {
          "base_uri": "https://localhost:8080/"
        },
        "id": "0e367uGZav7H",
        "outputId": "d90706ac-c514-4261-d894-6eba89ea71c9"
      },
      "execution_count": null,
      "outputs": [
        {
          "output_type": "stream",
          "name": "stderr",
          "text": [
            "ERROR:root:Attempted to divide by zero. a=10, b=0\n"
          ]
        },
        {
          "output_type": "stream",
          "name": "stdout",
          "text": [
            "Error: Division by zero is not allowed.\n"
          ]
        }
      ]
    },
    {
      "cell_type": "code",
      "source": [
        "\n",
        "# 8) Write a program to handle a file opening error using exception handling.\n",
        "\n",
        "def open_and_read_file(filename):\n",
        "    \"\"\"\n",
        "    Attempts to open a file and read its content, handling potential errors.\n",
        "\n",
        "    Args:\n",
        "        filename (str): The name of the file to open.\n",
        "    \"\"\"\n",
        "    try:\n",
        "        with open(filename, 'r') as file:\n",
        "            content = file.read()\n",
        "            print(f\"File '{filename}' content:\\n{content}\")\n",
        "    except FileNotFoundError:\n",
        "        print(f\"Error: The file '{filename}' was not found.\")\n",
        "    except IOError as e:\n",
        "        print(f\"Error: An I/O error occurred while accessing '{filename}': {e}\")\n",
        "    except Exception as e:\n",
        "        print(f\"An unexpected error occurred: {e}\")\n",
        "    finally:\n",
        "        print(\"Attempted file operation complete.\")\n",
        "\n",
        "# --- Test Cases ---\n",
        "\n",
        "# Case 1: File exists and can be opened\n",
        "print(\"--- Test Case 1: Existing file ---\")\n",
        "with open(\"existing_file.txt\", \"w\") as f:\n",
        "    f.write(\"This is an existing file.\")\n",
        "open_and_read_file(\"existing_file.txt\")\n",
        "print(\"\\n\")\n",
        "\n",
        "# Case 2: File does not exist\n",
        "print(\"--- Test Case 2: Non-existent file ---\")\n",
        "open_and_read_file(\"non_existent_file.txt\")\n",
        "print(\"\\n\")\n",
        "\n",
        "# Case 3: Simulating a permission error (e.g., trying to write to a read-only file)\n",
        "# This might require specific system configurations to truly trigger,\n",
        "# but the 'IOError' catch-all will handle it if it occurs.\n",
        "print(\"--- Test Case 3: Simulating I/O error (e.g., permission) ---\")\n",
        "# On some systems, creating a read-only file might trigger this\n",
        "# For demonstration, we'll just try to open a system file that might cause issues\n",
        "# (This example might not work on all systems due to permissions)\n",
        "# try:\n",
        "#     open_and_read_file(\"/etc/shadow\") # Attempting to open a restricted system file\n",
        "# except:\n",
        "#     pass # Suppress error if it fails to open for this demonstration\n",
        "open_and_read_file(\"existing_file.txt\") # Using existing file for a less disruptive test\n",
        "print(\"\\n\")"
      ],
      "metadata": {
        "colab": {
          "base_uri": "https://localhost:8080/"
        },
        "id": "ueaC6XCO7-AG",
        "outputId": "1083629e-7ab6-4655-f7d7-52cf7dd86ddc"
      },
      "execution_count": null,
      "outputs": [
        {
          "output_type": "stream",
          "name": "stdout",
          "text": [
            "--- Test Case 1: Existing file ---\n",
            "File 'existing_file.txt' content:\n",
            "This is an existing file.\n",
            "Attempted file operation complete.\n",
            "\n",
            "\n",
            "--- Test Case 2: Non-existent file ---\n",
            "Error: The file 'non_existent_file.txt' was not found.\n",
            "Attempted file operation complete.\n",
            "\n",
            "\n",
            "--- Test Case 3: Simulating I/O error (e.g., permission) ---\n",
            "File 'existing_file.txt' content:\n",
            "This is an existing file.\n",
            "Attempted file operation complete.\n",
            "\n",
            "\n"
          ]
        }
      ]
    },
    {
      "cell_type": "code",
      "source": [
        "# 10) How can you append data to an existing file in Python?\n",
        "\n",
        "# Open the file in append mode ('a')\n",
        "# The 'with' statement ensures the file is automatically closed\n",
        "with open('my_file.txt', 'a') as file:\n",
        "    # Write the new data to the file\n",
        "    file.write('This is a new line of text.\\n')\n",
        "    file.write('This will be appended to the end of the file.\\n')\n",
        "\n",
        "print(\"Data appended successfully!\")"
      ],
      "metadata": {
        "colab": {
          "base_uri": "https://localhost:8080/"
        },
        "id": "eHJ8nZvLCAu6",
        "outputId": "b7d0bdd2-83d5-4336-cbb9-9b16c16ecdd0"
      },
      "execution_count": null,
      "outputs": [
        {
          "output_type": "stream",
          "name": "stdout",
          "text": [
            "Data appended successfully!\n"
          ]
        }
      ]
    },
    {
      "cell_type": "code",
      "source": [
        "\n",
        "# 11) Write a Python program that uses a try-except block to handle an error when attempting to access a dictionary key that doesn't exist.\n",
        "\n",
        "\n",
        "def safe_dictionary_access(dictionary, key):\n",
        "    \"\"\"\n",
        "    Attempts to access a dictionary key and handles KeyError if the key is not found.\n",
        "\n",
        "    Args:\n",
        "        dictionary (dict): The dictionary to access.\n",
        "        key: The key to search for in the dictionary.\n",
        "\n",
        "    Returns:\n",
        "        The value associated with the key if found, otherwise None.\n",
        "    \"\"\"\n",
        "    try:\n",
        "        value = dictionary[key]\n",
        "        print(f\"Successfully accessed key '{key}': {value}\")\n",
        "        return value\n",
        "    except KeyError:\n",
        "        print(f\"Error: Key '{key}' not found in the dictionary.\")\n",
        "        return None\n",
        "\n",
        "# Example usage:\n",
        "my_dict = {\"name\": \"Alice\", \"age\": 30, \"city\": \"New York\"}\n",
        "\n",
        "# Attempt to access an existing key\n",
        "safe_dictionary_access(my_dict, \"name\")\n",
        "\n",
        "# Attempt to access a non-existent key\n",
        "safe_dictionary_access(my_dict, \"occupation\")\n",
        "\n",
        "# Another attempt with a different non-existent key\n",
        "safe_dictionary_access(my_dict, \"country\")"
      ],
      "metadata": {
        "colab": {
          "base_uri": "https://localhost:8080/"
        },
        "id": "ajN4txo1Cmsi",
        "outputId": "777d4205-6567-4f8e-e73f-c00a507234e4"
      },
      "execution_count": null,
      "outputs": [
        {
          "output_type": "stream",
          "name": "stdout",
          "text": [
            "Successfully accessed key 'name': Alice\n",
            "Error: Key 'occupation' not found in the dictionary.\n",
            "Error: Key 'country' not found in the dictionary.\n"
          ]
        }
      ]
    },
    {
      "cell_type": "code",
      "source": [
        "# 12) Write a program that demonstrates using multiple except blocks to handle different types of exceptions.\n",
        "def safe_operations(num_str, divisor_str):\n",
        "    try:\n",
        "        # Attempt to convert input strings to numbers\n",
        "        numerator = int(num_str)\n",
        "        denominator = int(divisor_str)\n",
        "\n",
        "        # Perform division\n",
        "        result = numerator / denominator\n",
        "        print(f\"Division result: {result}\")\n",
        "\n",
        "    except ValueError as e:\n",
        "        # Handle cases where input cannot be converted to an integer\n",
        "        print(f\"Error: Invalid input. Please enter valid integers. Details: {e}\")\n",
        "    except ZeroDivisionError as e:\n",
        "        # Handle division by zero errors\n",
        "        print(f\"Error: Cannot divide by zero. Details: {e}\")\n",
        "    except Exception as e:\n",
        "        # Catch any other unexpected exceptions as a fallback\n",
        "        print(f\"An unexpected error occurred: {e}\")\n",
        "    else:\n",
        "        # This block executes if no exceptions were raised in the try block\n",
        "        print(\"All operations completed successfully!\")\n",
        "    finally:\n",
        "        # This block always executes, regardless of whether an exception occurred or not\n",
        "        print(\"Cleanup: This block always runs.\")\n",
        "\n",
        "# Example Usage:\n",
        "print(\"--- Test Case 1: Valid Inputs ---\")\n",
        "safe_operations(\"10\", \"2\")\n",
        "\n",
        "print(\"\\n--- Test Case 2: Zero Division Error ---\")\n",
        "safe_operations(\"10\", \"0\")\n",
        "\n",
        "print(\"\\n--- Test Case 3: Value Error ---\")\n",
        "safe_operations(\"abc\", \"2\")\n",
        "\n",
        "print(\"\\n--- Test Case 4: Another Value Error (for denominator) ---\")\n",
        "safe_operations(\"10\", \"xyz\")\n",
        "\n",
        "print(\"\\n--- Test Case 5:  Combination of errors - The first encountered error is handled ---\")\n",
        "safe_operations(\"test\", \"0\")"
      ],
      "metadata": {
        "colab": {
          "base_uri": "https://localhost:8080/"
        },
        "id": "LmbhdgMBD2lf",
        "outputId": "aebfaa0a-36f0-4d5a-8fd9-e80f6cf9e232"
      },
      "execution_count": null,
      "outputs": [
        {
          "output_type": "stream",
          "name": "stdout",
          "text": [
            "--- Test Case 1: Valid Inputs ---\n",
            "Division result: 5.0\n",
            "All operations completed successfully!\n",
            "Cleanup: This block always runs.\n",
            "\n",
            "--- Test Case 2: Zero Division Error ---\n",
            "Error: Cannot divide by zero. Details: division by zero\n",
            "Cleanup: This block always runs.\n",
            "\n",
            "--- Test Case 3: Value Error ---\n",
            "Error: Invalid input. Please enter valid integers. Details: invalid literal for int() with base 10: 'abc'\n",
            "Cleanup: This block always runs.\n",
            "\n",
            "--- Test Case 4: Another Value Error (for denominator) ---\n",
            "Error: Invalid input. Please enter valid integers. Details: invalid literal for int() with base 10: 'xyz'\n",
            "Cleanup: This block always runs.\n",
            "\n",
            "--- Test Case 5:  Combination of errors - The first encountered error is handled ---\n",
            "Error: Invalid input. Please enter valid integers. Details: invalid literal for int() with base 10: 'test'\n",
            "Cleanup: This block always runs.\n"
          ]
        }
      ]
    },
    {
      "cell_type": "code",
      "source": [
        "# 13) How would you check if a file exists before attempting to read it in Python?\n",
        "\n",
        "\n",
        "    import os\n",
        "\n",
        "    file_path = \"my_document.txt\"\n",
        "    if os.path.exists(file_path):\n",
        "        print(f\"The file '{file_path}' exists. Attempting to read...\")\n",
        "        # Code to read the file\n",
        "        try:\n",
        "            with open(file_path, 'r') as f:\n",
        "                content = f.read()\n",
        "                print(\"File content:\", content)\n",
        "        except IOError as e:\n",
        "            print(f\"Error reading file: {e}\")\n",
        "    else:\n",
        "        print(f\"The file '{file_path}' does not exist.\")"
      ],
      "metadata": {
        "colab": {
          "base_uri": "https://localhost:8080/"
        },
        "id": "a8eajnaAEViN",
        "outputId": "a3eb2e5f-7a7e-4fb7-eb55-894c83f77f9b"
      },
      "execution_count": null,
      "outputs": [
        {
          "output_type": "stream",
          "name": "stdout",
          "text": [
            "The file 'my_document.txt' does not exist.\n"
          ]
        }
      ]
    },
    {
      "cell_type": "code",
      "source": [
        "# 14) Write a program that uses the logging module to log both informational and error messages.\n",
        "\n",
        "import logging\n",
        "\n",
        "# Configure logging\n",
        "logging.basicConfig(\n",
        "    filename='app_log.txt',\n",
        "    level=logging.DEBUG,  # Enables logging of DEBUG, INFO, WARNING, ERROR, CRITICAL\n",
        "    format='%(asctime)s - %(levelname)s - %(message)s'\n",
        ")\n",
        "\n",
        "def divide(a, b):\n",
        "    logging.info(f\"Attempting to divide {a} by {b}\")\n",
        "    try:\n",
        "        result = a / b\n",
        "        logging.info(f\"Division successful: {a} / {b} = {result}\")\n",
        "        return result\n",
        "    except ZeroDivisionError:\n",
        "        logging.error(f\"Error: Division by zero attempted. a={a}, b={b}\")\n",
        "        return None\n",
        "\n",
        "# Example usage\n",
        "divide(10, 2)  # Logs info\n",
        "divide(5, 0)   # Logs error"
      ],
      "metadata": {
        "colab": {
          "base_uri": "https://localhost:8080/"
        },
        "id": "uboa1zU4Ek6o",
        "outputId": "35c5d2bd-d1ff-4910-e067-942ecde5f8ef"
      },
      "execution_count": null,
      "outputs": [
        {
          "output_type": "stream",
          "name": "stderr",
          "text": [
            "ERROR:root:Error: Division by zero attempted. a=5, b=0\n"
          ]
        }
      ]
    },
    {
      "cell_type": "code",
      "source": [
        "# 15) Write a Python program that prints the content of a file and handles the case when the file is empty.\n",
        "\n",
        "def print_file_content(filename):\n",
        "    try:\n",
        "        with open(filename, 'r') as file:\n",
        "            content = file.read()\n",
        "            if content.strip():  # Check for non-empty content\n",
        "                print(\"File content:\\n\")\n",
        "                print(content)\n",
        "            else:\n",
        "                print(f\"The file '{filename}' is empty.\")\n",
        "    except FileNotFoundError:\n",
        "        print(f\"Error: The file '{filename}' does not exist.\")\n",
        "    except IOError as e:\n",
        "        print(f\"An I/O error occurred: {e}\")\n",
        "\n",
        "# Example usage\n",
        "file_name = \"example.txt\"\n",
        "print_file_content(file_name)"
      ],
      "metadata": {
        "colab": {
          "base_uri": "https://localhost:8080/"
        },
        "id": "GeSRVvwnEvzK",
        "outputId": "4c247542-ac2f-4a10-cd26-6b880757c794"
      },
      "execution_count": null,
      "outputs": [
        {
          "output_type": "stream",
          "name": "stdout",
          "text": [
            "File content:\n",
            "\n",
            "Hello, this is a string written to the file.This is a new line of text.\n",
            "\n"
          ]
        }
      ]
    },
    {
      "cell_type": "code",
      "source": [
        "#17) Write a Python program to create and write a list of numbers to a file, one number per line.\n",
        "\n",
        "def write_numbers_to_file(numbers_list, filename):\n",
        "    \"\"\"\n",
        "    Writes a list of numbers to a file, with each number on a new line.\n",
        "\n",
        "    Args:\n",
        "        numbers_list (list): A list of numbers (integers or floats).\n",
        "        filename (str): The name of the file to write to.\n",
        "    \"\"\"\n",
        "    try:\n",
        "        with open(filename, 'w') as file:\n",
        "            for number in numbers_list:\n",
        "                file.write(str(number) + '\\n')\n",
        "        print(f\"Numbers successfully written to '{filename}'\")\n",
        "    except IOError as e:\n",
        "        print(f\"Error writing to file: {e}\")\n",
        "\n",
        "# Example usage:\n",
        "if __name__ == \"__main__\":\n",
        "    my_numbers = [10, 25, 30, 45, 60.5, 75]\n",
        "    output_file = \"my_numbers.txt\"\n",
        "    write_numbers_to_file(my_numbers, output_file)\n",
        "\n",
        "    # You can also create a list of numbers using range()\n",
        "    more_numbers = list(range(1, 11)) # Numbers from 1 to 10\n",
        "    another_output_file = \"more_numbers.txt\"\n",
        "    write_numbers_to_file(more_numbers, another_output_file)"
      ],
      "metadata": {
        "colab": {
          "base_uri": "https://localhost:8080/"
        },
        "id": "KyTIFpK5HaAx",
        "outputId": "d51682b3-4957-4f1a-a344-597e9a1216cb"
      },
      "execution_count": null,
      "outputs": [
        {
          "output_type": "stream",
          "name": "stdout",
          "text": [
            "Numbers successfully written to 'my_numbers.txt'\n",
            "Numbers successfully written to 'more_numbers.txt'\n"
          ]
        }
      ]
    },
    {
      "cell_type": "code",
      "source": [
        "# 18) How would you implement a basic logging setup that logs to a file with rotation after IMB?\n",
        "\n",
        "\n",
        "import logging\n",
        "from logging.handlers import RotatingFileHandler\n",
        "\n",
        "def setup_logging(log_file='app.log', max_bytes=1048576, backup_count=5):\n",
        "    \"\"\"\n",
        "    Set up logging with file rotation.\n",
        "\n",
        "    Parameters:\n",
        "        log_file (str): Name of the log file\n",
        "        max_bytes (int): Maximum file size before rotation (default 1MB)\n",
        "        backup_count (int): Number of backup files to keep\n",
        "    \"\"\"\n",
        "    # Create a logger\n",
        "    logger = logging.getLogger()\n",
        "    logger.setLevel(logging.INFO)  # Set the minimum log level\n",
        "\n",
        "    # Create formatter\n",
        "    formatter = logging.Formatter('%(asctime)s - %(name)s - %(levelname)s - %(message)s')\n",
        "\n",
        "    # Create rotating file handler\n",
        "    file_handler = RotatingFileHandler(\n",
        "        filename=log_file,\n",
        "        maxBytes=max_bytes,\n",
        "        backupCount=backup_count\n",
        "    )\n",
        "    file_handler.setFormatter(formatter)\n",
        "\n",
        "    # Add handler to the logger\n",
        "    logger.addHandler(file_handler)\n",
        "\n",
        "    # Also log to console (optional)\n",
        "    console_handler = logging.StreamHandler()\n",
        "    console_handler.setFormatter(formatter)\n",
        "    logger.addHandler(console_handler)\n",
        "\n",
        "    return logger\n",
        "\n",
        "# Example usage\n",
        "if __name__ == \"__main__\":\n",
        "    logger = setup_logging('my_app.log')\n",
        "\n",
        "    # Test logging\n",
        "    logger.info(\"Application started\")\n",
        "    logger.warning(\"This is a warning message\")\n",
        "    logger.error(\"This is an error message\")\n",
        "\n",
        "    # To test rotation, you could log many messages in a loop\n",
        "    # for i in range(10000):\n",
        "    #     logger.info(f\"Test message {i}\")"
      ],
      "metadata": {
        "colab": {
          "base_uri": "https://localhost:8080/"
        },
        "id": "RET3BxWzIoG0",
        "outputId": "0e81d890-cefd-4073-d00e-d13e569bba51"
      },
      "execution_count": null,
      "outputs": [
        {
          "output_type": "stream",
          "name": "stderr",
          "text": [
            "INFO:root:Application started\n",
            "2025-07-18 10:48:38,829 - root - INFO - Application started\n",
            "2025-07-18 10:48:38,829 - root - INFO - Application started\n",
            "2025-07-18 10:48:38,829 - root - INFO - Application started\n",
            "WARNING:root:This is a warning message\n",
            "2025-07-18 10:48:38,837 - root - WARNING - This is a warning message\n",
            "2025-07-18 10:48:38,837 - root - WARNING - This is a warning message\n",
            "2025-07-18 10:48:38,837 - root - WARNING - This is a warning message\n",
            "ERROR:root:This is an error message\n",
            "2025-07-18 10:48:38,842 - root - ERROR - This is an error message\n",
            "2025-07-18 10:48:38,842 - root - ERROR - This is an error message\n",
            "2025-07-18 10:48:38,842 - root - ERROR - This is an error message\n"
          ]
        }
      ]
    },
    {
      "cell_type": "code",
      "source": [
        "# 19) Write a program that handles both IndexError and KeyError using a try-except block.\n",
        "\n",
        "\n",
        "def handle_errors(data, key_or_index):\n",
        "    \"\"\"\n",
        "    Attempts to access data by key or index and handles KeyError or IndexError.\n",
        "\n",
        "    Args:\n",
        "        data: A list or dictionary.\n",
        "        key_or_index: The key (for a dictionary) or index (for a list) to access.\n",
        "    \"\"\"\n",
        "    try:\n",
        "        # Attempt to access data, which might raise IndexError or KeyError\n",
        "        if isinstance(data, list):\n",
        "            value = data[key_or_index]\n",
        "            print(f\"Accessed list element: {value}\")\n",
        "        elif isinstance(data, dict):\n",
        "            value = data[key_or_index]\n",
        "            print(f\"Accessed dictionary value: {value}\")\n",
        "        else:\n",
        "            print(\"Unsupported data type.\")\n",
        "\n",
        "    except IndexError as e:\n",
        "        print(f\"IndexError caught: {e}. The index is out of range for the list.\")\n",
        "    except KeyError as e:\n",
        "        print(f\"KeyError caught: {e}. The key was not found in the dictionary.\")\n",
        "    except Exception as e:\n",
        "        # Catch any other unexpected exceptions\n",
        "        print(f\"An unexpected error occurred: {e}\")\n",
        "\n",
        "# Example Usage:\n",
        "\n",
        "# Handling IndexError\n",
        "my_list = [10, 20, 30]\n",
        "print(\"\\n--- Testing IndexError ---\")\n",
        "handle_errors(my_list, 1)  # Valid index\n",
        "handle_errors(my_list, 5)  # Invalid index\n",
        "\n",
        "# Handling KeyError\n",
        "my_dict = {\"name\": \"Alice\", \"age\": 30}\n",
        "print(\"\\n--- Testing KeyError ---\")\n",
        "handle_errors(my_dict, \"name\")  # Valid key\n",
        "handle_errors(my_dict, \"city\")  # Invalid key\n",
        "\n",
        "# Handling other types\n",
        "print(\"\\n--- Testing Unsupported Type ---\")\n",
        "handle_errors(\"hello\", 0) # String, but the logic handles list-like access\n",
        "handle_errors(123, 0) # Integer, which is an unsupported type by the logic"
      ],
      "metadata": {
        "colab": {
          "base_uri": "https://localhost:8080/"
        },
        "id": "i4E8Sns1JoNV",
        "outputId": "b80c8156-f2cb-42bf-c030-39ac73ae1a31"
      },
      "execution_count": null,
      "outputs": [
        {
          "output_type": "stream",
          "name": "stdout",
          "text": [
            "\n",
            "--- Testing IndexError ---\n",
            "Accessed list element: 20\n",
            "IndexError caught: list index out of range. The index is out of range for the list.\n",
            "\n",
            "--- Testing KeyError ---\n",
            "Accessed dictionary value: Alice\n",
            "KeyError caught: 'city'. The key was not found in the dictionary.\n",
            "\n",
            "--- Testing Unsupported Type ---\n",
            "Unsupported data type.\n",
            "Unsupported data type.\n"
          ]
        }
      ]
    },
    {
      "cell_type": "code",
      "source": [
        "\n",
        "# 20) How would you open a file and read its contents using a context manager in Python?\n",
        "\n",
        "\n",
        "# Create a dummy file for demonstration\n",
        "with open(\"example.txt\", \"w\") as f:\n",
        "    f.write(\"This is line 1.\\n\")\n",
        "    f.write(\"This is line 2.\\n\")\n",
        "    f.write(\"This is line 3.\\n\")\n",
        "\n",
        "# Open the file in read mode ('r') using a context manager\n",
        "try:\n",
        "    with open(\"example.txt\", \"r\") as file:\n",
        "        # Read the entire content of the file\n",
        "        content = file.read()\n",
        "        print(\"Entire file content:\")\n",
        "        print(content)\n",
        "\n",
        "        # Alternatively, read line by line\n",
        "        file.seek(0)  # Reset file pointer to the beginning for re-reading\n",
        "        print(\"\\nContent read line by line:\")\n",
        "        for line in file:\n",
        "            print(line.strip()) # .strip() removes trailing newline characters\n",
        "\n",
        "except FileNotFoundError:\n",
        "    print(\"Error: The file 'example.txt' was not found.\")\n",
        "except Exception as e:\n",
        "    print(f\"An unexpected error occurred: {e}\")"
      ],
      "metadata": {
        "colab": {
          "base_uri": "https://localhost:8080/"
        },
        "id": "PQ0NIHHyJ9BZ",
        "outputId": "a7b97931-e3dd-4b12-e82d-06a78dfc0a54"
      },
      "execution_count": null,
      "outputs": [
        {
          "output_type": "stream",
          "name": "stdout",
          "text": [
            "Entire file content:\n",
            "This is line 1.\n",
            "This is line 2.\n",
            "This is line 3.\n",
            "\n",
            "\n",
            "Content read line by line:\n",
            "This is line 1.\n",
            "This is line 2.\n",
            "This is line 3.\n"
          ]
        }
      ]
    },
    {
      "cell_type": "code",
      "source": [
        "\n",
        "# 21) Write a Python program that reads a file and prints the number of occurrences of a specific word.\n",
        "import re\n",
        "\n",
        "def count_word_occurrences(file_path, target_word):\n",
        "    \"\"\"\n",
        "    Counts the number of occurrences of a specific word in a text file.\n",
        "\n",
        "    Args:\n",
        "        file_path (str): The path to the text file.\n",
        "        target_word (str): The word to search for.\n",
        "\n",
        "    Returns:\n",
        "        int: The number of times the target word appears in the file.\n",
        "    \"\"\"\n",
        "    try:\n",
        "        with open(file_path, 'r', encoding='utf-8') as file:\n",
        "            content = file.read()\n",
        "            # Convert content and target word to lowercase for case-insensitive search\n",
        "            content_lower = content.lower()\n",
        "            target_word_lower = target_word.lower()\n",
        "\n",
        "            # Use regex to find exact word matches, ignoring case\n",
        "            # \\b ensures whole word matching (e.g., \"apple\" won't match in \"pineapple\")\n",
        "            pattern = r'\\b' + re.escape(target_word_lower) + r'\\b'\n",
        "            matches = re.findall(pattern, content_lower)\n",
        "            return len(matches)\n",
        "    except FileNotFoundError:\n",
        "        print(f\"Error: The file '{file_path}' was not found.\")\n",
        "        return -1\n",
        "    except Exception as e:\n",
        "        print(f\"An error occurred: {e}\")\n",
        "        return -1\n",
        "\n",
        "if __name__   ==   \"__main__\" : # Example usage: file_name = \"sample.txt\" #  Replace with your filename word_to_find =   \"python\"\n",
        "\n",
        "\n",
        "\n",
        "\n",
        "    # Create a dummy file for testing if it doesn't exist  try : with open ( file_name , 'x' ) as   f : f.write( \"Python is a great  programming language. Learn Python for data science  . Python is versatile.\" ) except   FileExistsError : pass # The file already exists,  no need to create it\n",
        "\n",
        "\n",
        "\n",
        "\n",
        "\n",
        "\n",
        "    occurrences = count_word_occurrences  (  file_name  ,   word_to_find  )\n",
        "\n",
        "    if frequencies !=   -1 :  print  (  f  \"The word ' { word_to_find } ' appears { frequencies } times in ' { file_name } '  .\" )"
      ],
      "metadata": {
        "colab": {
          "base_uri": "https://localhost:8080/"
        },
        "id": "qTyx4q88GJ_-",
        "outputId": "ff0e6126-36fa-4846-9f45-291cd347fbd3"
      },
      "execution_count": 2,
      "outputs": [
        {
          "output_type": "stream",
          "name": "stdout",
          "text": [
            "The word 'python' appears 3 times in 'sample.txt'.\n"
          ]
        }
      ]
    },
    {
      "cell_type": "code",
      "source": [
        "# 22) How can you check if a file is empty before attempting to read its contents?\n",
        "\n",
        "\n",
        "import os\n",
        "\n",
        "file_path = 'example.txt'\n",
        "\n",
        "# Method 1: Check file size using os.path.getsize\n",
        "if os.path.exists(file_path):\n",
        "    if os.path.getsize(file_path) > 0:\n",
        "        with open(file_path, 'r') as file:\n",
        "            contents = file.read()\n",
        "            print(\"File content (Method 1):\\n\", contents)\n",
        "    else:\n",
        "        print(\"File is empty (Method 1)\")\n",
        "else:\n",
        "    print(\"File does not exist.\")\n",
        "\n",
        "# Method 2: Try reading the first character\n",
        "if os.path.exists(file_path):\n",
        "    with open(file_path, 'r') as file:\n",
        "        first_char = file.read(1)\n",
        "        if not first_char:\n",
        "            print(\"File is empty (Method 2)\")\n",
        "        else:\n",
        "            # Reset to beginning and read full content\n",
        "            file.seek(0)\n",
        "            contents = file.read()\n",
        "            print(\"File content (Method 2):\\n\", contents)"
      ],
      "metadata": {
        "colab": {
          "base_uri": "https://localhost:8080/"
        },
        "id": "rp0rRy7zN2Sn",
        "outputId": "574dd955-5772-4d51-8792-7a6ed33c47b6"
      },
      "execution_count": 10,
      "outputs": [
        {
          "output_type": "stream",
          "name": "stdout",
          "text": [
            "File does not exist.\n"
          ]
        }
      ]
    },
    {
      "cell_type": "code",
      "source": [
        "\n",
        "# 23) Write a Python program that writes to a log file when an error occurs during file handling.\n",
        "\n",
        "\n",
        "import logging\n",
        "import os\n",
        "\n",
        "# Configure the logger\n",
        "log_file_name = \"file_handling_errors.log\"\n",
        "logging.basicConfig(\n",
        "    filename=log_file_name,\n",
        "    level=logging.ERROR,  # Only log messages with severity ERROR or higher\n",
        "    format='%(asctime)s - %(levelname)s - %(message)s'\n",
        ")\n",
        "\n",
        "def safe_file_operation(file_path, mode, content=None):\n",
        "    \"\"\"\n",
        "    Attempts a file operation and logs errors if they occur.\n",
        "    \"\"\"\n",
        "    try:\n",
        "        if mode == 'r':\n",
        "            with open(file_path, mode) as f:\n",
        "                data = f.read()\n",
        "                print(f\"Content of '{file_path}':\\n{data}\")\n",
        "                return data\n",
        "        elif mode == 'w':\n",
        "            with open(file_path, mode) as f:\n",
        "                if content:\n",
        "                    f.write(content)\n",
        "                print(f\"Successfully wrote to '{file_path}'.\")\n",
        "        else:\n",
        "            logging.error(f\"Invalid file mode provided: {mode}\")\n",
        "            print(f\"Error: Invalid file mode provided: {mode}\")\n",
        "\n",
        "    except FileNotFoundError:\n",
        "        logging.error(f\"FileNotFoundError: The file '{file_path}' was not found.\")\n",
        "        print(f\"Error: The file '{file_path}' does not exist.\")\n",
        "    except PermissionError:\n",
        "        logging.error(f\"PermissionError: Insufficient permissions to access '{file_path}'.\")\n",
        "        print(f\"Error: You do not have permission to access '{file_path}'.\")\n",
        "    except IOError as e:\n",
        "        logging.error(f\"IOError: An I/O error occurred with '{file_path}': {e}\")\n",
        "        print(f\"Error: An I/O error occurred with '{file_path}'.\")\n",
        "    except Exception as e:\n",
        "        logging.error(f\"An unexpected error occurred during file handling: {e}\")\n",
        "        print(f\"Error: An unexpected error occurred: {e}\")\n",
        "\n",
        "# --- Example Usage ---\n",
        "\n",
        "# 1. Attempt to read a non-existent file (will log FileNotFoundError)\n",
        "safe_file_operation(\"non_existent_file.txt\", \"r\")\n",
        "\n",
        "# 2. Attempt to write to a protected location (will log PermissionError on some systems)\n",
        "# Note: This might require running the script with elevated privileges on some OS.\n",
        "# For demonstration, we'll try to write to a common system directory.\n",
        "# On Linux/macOS, try \"/root/test.txt\" or \"/etc/test.txt\"\n",
        "# On Windows, try \"C:\\\\Windows\\\\System32\\\\test.txt\"\n",
        "# Be cautious when trying to write to system directories.\n",
        "# safe_file_operation(\"/root/protected_file.txt\", \"w\", \"This is sensitive data.\")\n",
        "\n",
        "# 3. Attempt a valid file write operation\n",
        "test_file = \"my_test_file.txt\"\n",
        "safe_file_operation(test_file, \"w\", \"Hello, this is a test line.\\nAnother line.\")\n",
        "\n",
        "# 4. Attempt a valid file read operation\n",
        "safe_file_operation(test_file, \"r\")\n",
        "\n",
        "# 5. Clean up the created test file\n",
        "if os.path.exists(test_file):\n",
        "    os.remove(test_file)\n",
        "    print(f\"Cleaned up '{test_file}'.\")\n",
        "\n",
        "print(f\"\\nCheck the '{log_file_name}' file for error logs.\")"
      ],
      "metadata": {
        "colab": {
          "base_uri": "https://localhost:8080/"
        },
        "id": "1YzJYP37OASx",
        "outputId": "4cedeff3-1d5b-4336-db28-4164a6156803"
      },
      "execution_count": 12,
      "outputs": [
        {
          "output_type": "stream",
          "name": "stderr",
          "text": [
            "ERROR:root:FileNotFoundError: The file 'non_existent_file.txt' was not found.\n"
          ]
        },
        {
          "output_type": "stream",
          "name": "stdout",
          "text": [
            "Error: The file 'non_existent_file.txt' does not exist.\n",
            "Successfully wrote to 'my_test_file.txt'.\n",
            "Content of 'my_test_file.txt':\n",
            "Hello, this is a test line.\n",
            "Another line.\n",
            "Cleaned up 'my_test_file.txt'.\n",
            "\n",
            "Check the 'file_handling_errors.log' file for error logs.\n"
          ]
        }
      ]
    }
  ]
}