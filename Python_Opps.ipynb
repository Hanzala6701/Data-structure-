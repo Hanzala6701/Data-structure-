{
  "nbformat": 4,
  "nbformat_minor": 0,
  "metadata": {
    "colab": {
      "provenance": [],
      "authorship_tag": "ABX9TyPdFZJQGL3xbogTHXQwUJju",
      "include_colab_link": true
    },
    "kernelspec": {
      "name": "python3",
      "display_name": "Python 3"
    },
    "language_info": {
      "name": "python"
    }
  },
  "cells": [
    {
      "cell_type": "markdown",
      "metadata": {
        "id": "view-in-github",
        "colab_type": "text"
      },
      "source": [
        "<a href=\"https://colab.research.google.com/github/Hanzala6701/Data-structure-/blob/main/Python_Opps.ipynb\" target=\"_parent\"><img src=\"https://colab.research.google.com/assets/colab-badge.svg\" alt=\"Open In Colab\"/></a>"
      ]
    },
    {
      "cell_type": "markdown",
      "source": [
        "1)What is Object-Oriented Programming (OOP)?\n",
        "\n",
        "- gramming (OOP) is a programming paradigm that organizes software design around objects rather than functions and logic."
      ],
      "metadata": {
        "id": "0rEXqcVzIlDs"
      }
    },
    {
      "cell_type": "markdown",
      "source": [
        "2) What is a class in OOP?\n",
        "\n",
        "- gramming (OOP), a class is a blueprint or template for creating objects."
      ],
      "metadata": {
        "id": "dGx0IyYbI72W"
      }
    },
    {
      "cell_type": "markdown",
      "source": [
        "3)What is an object in OOP?\n",
        "\n",
        "- In Object-Oriented Programming (OOP), an object is a fundamental building block representing a specific instance of a class."
      ],
      "metadata": {
        "id": "vI3GTNgCJFyL"
      }
    },
    {
      "cell_type": "markdown",
      "source": [
        "4) What is the difference between abstraction and encapsulation?\n",
        "\n",
        "- Abstraction focuses on hiding unnecessary complexity and showing only the essential features of an object, while encapsulation focuses on bundling the data (attributes) and methods (functions) that operate on that data into a single unit (class) and restricting access to the internal details."
      ],
      "metadata": {
        "id": "kXrAGFSYJZwU"
      }
    },
    {
      "cell_type": "markdown",
      "source": [
        "5) What are dunder methods in Python?\n",
        "\n",
        "- Dunder methods, also known as magic methods, are special methods in Python identified by their names starting and ending with double underscores."
      ],
      "metadata": {
        "id": "S5ikwP58JlLe"
      }
    },
    {
      "cell_type": "markdown",
      "source": [
        "6) Explain the concept of inheritance in OOP.\n",
        "- a mechanism where a new class (the subclass or child class) is created based on an existing class (the superclass or parent class), inheriting its attributes and methods."
      ],
      "metadata": {
        "id": "CIznkDsOJ3DM"
      }
    },
    {
      "cell_type": "markdown",
      "source": [
        "7) What is polymorphism in OOPP?\n",
        "\n",
        "- Polymorphism, in object-oriented programming (OOP), is the ability of an object to take on many forms or behaviors. It allows different classes to be treated as objects of a common superclass, enabling a single interface to handle diverse object types."
      ],
      "metadata": {
        "id": "CKkhmPv7J9Rg"
      }
    },
    {
      "cell_type": "markdown",
      "source": [
        "8)How is encapsulation achieved in Python?\n",
        "- Encapsulation in Python is achieved through the use of classes, and by controlling access to data members and methods."
      ],
      "metadata": {
        "id": "d3UxAr_8KDqa"
      }
    },
    {
      "cell_type": "markdown",
      "source": [
        "9) What is a constructor in Python?\n",
        "\n",
        "- In Python, a constructor is a special method within a class that is automatically invoked when a new object (instance) of that class is created."
      ],
      "metadata": {
        "id": "t18jwtl3KSep"
      }
    },
    {
      "cell_type": "markdown",
      "source": [
        "10) What are class and static methods in Python?\n",
        "\n",
        "- In Python, class methods and static methods are two types of methods that behave differently from regular instance methods."
      ],
      "metadata": {
        "id": "VxU7ZMj7Kc1h"
      }
    },
    {
      "cell_type": "markdown",
      "source": [
        "11) What is method overloading in Python?\n",
        "\n",
        "- Method Overloading is the ability to define multiple methods with the same name but different arguments (in number or type) within the same class."
      ],
      "metadata": {
        "id": "NUOo2YBnKlIn"
      }
    },
    {
      "cell_type": "markdown",
      "source": [
        "12) What is method overriding in OOP?\n",
        "\n",
        "- Method overriding in object-oriented programming is when a subclass provides a specific implementation of a method that is already defined in its superclass."
      ],
      "metadata": {
        "id": "wE2V2RlNKvTI"
      }
    },
    {
      "cell_type": "markdown",
      "source": [
        "13) What is a property decorator in Python?\n",
        "- A property decorator in Python, denoted as @property, is a built-in decorator that allows methods within a class to be accessed and managed like attributes. It provides a clean and Pythonic way to implement \"managed attributes\" by encapsulating the logic for getting, setting, and deleting an attribute's value."
      ],
      "metadata": {
        "id": "Wx8nJbQKK5ch"
      }
    },
    {
      "cell_type": "markdown",
      "source": [
        "14) Why is polymorphism important in OOP?\n",
        "- objects of different classes to be treated as objects of a common type, promoting code reusability, flexibility, and maintainability."
      ],
      "metadata": {
        "id": "9vuXaStqLGEe"
      }
    },
    {
      "cell_type": "markdown",
      "source": [
        "15) What is an abstract class in Python?\n",
        "\n",
        "- An abstract class in Python is a class that serves as a blueprint or template for other classes. It cannot be instantiated directly, meaning you cannot create objects of an abstract class."
      ],
      "metadata": {
        "id": "R6qxk7lMLQY4"
      }
    },
    {
      "cell_type": "markdown",
      "source": [
        "16) What are the advantages of OOP?\n",
        "\n",
        "- Object-Oriented Programming (OOP) offers several advantages, primarily enhancing code organization, reusability, and maintainability"
      ],
      "metadata": {
        "id": "0GoD2RFnLYJ8"
      }
    },
    {
      "cell_type": "markdown",
      "source": [
        "17) What is the difference between a class variable and an instance variable?\n",
        "- Class variables are shared among all instances of a class, while instance variables are unique to each object (instance) of a class."
      ],
      "metadata": {
        "id": "VRdNNrjvLeY5"
      }
    },
    {
      "cell_type": "markdown",
      "source": [
        "18) What is multiple inheritance in Python?\n",
        "\n",
        "- Multiple inheritance in Python is a feature of object-oriented programming where a class can inherit attributes and methods from more than one parent class."
      ],
      "metadata": {
        "id": "4pLVaUTtLk3y"
      }
    },
    {
      "cell_type": "markdown",
      "source": [
        "19) Explain the purpose of str_and__repr_methods in Python.\n",
        "- In Python, __str__ and __repr__ are special methods (often called \"dunder methods\" for \"double underscore\") that control how an object is represented as a string. They serve different purposes and are aimed at different audiences."
      ],
      "metadata": {
        "id": "5LGESPyNLr-d"
      }
    },
    {
      "cell_type": "markdown",
      "source": [
        "20) What is the significance of the 'super() function in Python?\n",
        "\n",
        "- The super() function in Python holds significant importance in object-oriented programming, particularly concerning inheritance. Its primary significance lies in the following aspects."
      ],
      "metadata": {
        "id": "IPF5SQSoLyQJ"
      }
    },
    {
      "cell_type": "markdown",
      "source": [
        "21) What is the significance of the_del_ method in Python?\n",
        "- The __del__ method in Python, often referred to as a destructor, holds significance as a special method that is called when an object is about to be garbage collected and destroyed."
      ],
      "metadata": {
        "id": "BwlvoxwiL-e7"
      }
    },
    {
      "cell_type": "markdown",
      "source": [
        "22) What is the difference between @staticmethod and @classmethod in Python?\n",
        "\n",
        "- The primary difference between @staticmethod and @classmethod in Python lies in how they interact with the class and its instances."
      ],
      "metadata": {
        "id": "IyF5dkfrMBKD"
      }
    },
    {
      "cell_type": "markdown",
      "source": [
        "23) How does polymorphism work in Python with inheritance.\n",
        "\n",
        "- Polymorphism in Python, when combined with inheritance, primarily manifests through method overriding. This allows objects of different classes, related through inheritance, to respond to the same method call in a way specific to their own class."
      ],
      "metadata": {
        "id": "W4KNrcmVMIw0"
      }
    },
    {
      "cell_type": "markdown",
      "source": [
        "24)What is method chaining in Python OOP?\n",
        "\n",
        "- Method chaining in Python Object-Oriented Programming (OOP) is a technique that allows multiple methods to be called sequentially on the same object in a single line of code."
      ],
      "metadata": {
        "id": "SNVaUl87MQv9"
      }
    },
    {
      "cell_type": "markdown",
      "source": [
        "25) What is the purpose of the_call method in Python?\n",
        "\n",
        "- The purpose of the __call__ method in Python is to make instances of a class callable, meaning they can be invoked like a regular function."
      ],
      "metadata": {
        "id": "xKSZvTY7Mbuf"
      }
    },
    {
      "cell_type": "code",
      "source": [
        "# 1) Create a parent class Animal with a method speak() that prints a generic message. Create a child class Dog that overrides the speak() method to print \"Bark!\".\n",
        "\n",
        "# Parent class\n",
        "class Animal:\n",
        "    def speak(self):\n",
        "        print(\"The animal makes a sound.\")\n",
        "\n",
        "# Child class\n",
        "class Dog(Animal):\n",
        "    def speak(self):\n",
        "        print(\"Bark!\")\n",
        "\n",
        "# Example usage\n",
        "a = Animal()\n",
        "a.speak()\n",
        "\n",
        "d = Dog()\n",
        "d.speak()"
      ],
      "metadata": {
        "colab": {
          "base_uri": "https://localhost:8080/"
        },
        "id": "ysosWfIJLJ6W",
        "outputId": "c382143a-aecf-4fb3-e36e-c3b676c0e570"
      },
      "execution_count": null,
      "outputs": [
        {
          "output_type": "stream",
          "name": "stdout",
          "text": [
            "The animal makes a sound.\n",
            "Bark!\n"
          ]
        }
      ]
    },
    {
      "cell_type": "code",
      "source": [
        "# 2) Write a program to create an abstract class Shape with a method area(). Derive classes Circle and Rectangle from it and implement the area() method in both.\n",
        "\n",
        "from abc import ABC, abstractmethod\n",
        "\n",
        "class Shape(ABC):\n",
        "    @abstractmethod\n",
        "    def area(self):\n",
        "        pass\n",
        "\n",
        "class Circle(Shape):\n",
        "    def __init__(self, radius):\n",
        "        self.radius = radius\n",
        "\n",
        "    def area(self):\n",
        "        return 3.14159 * self.radius * self.radius\n",
        "\n",
        "class Rectangle(Shape):\n",
        "    def __init__(self, length, width):\n",
        "        self.length = length\n",
        "        self.width = width\n",
        "\n",
        "    def area(self):\n",
        "        return self.length * self.width\n",
        "\n",
        "# Example usage\n",
        "circle = Circle(5)\n",
        "print(f\"Area of circle: {circle.area()}\")\n",
        "\n",
        "rectangle = Rectangle(4, 6)\n",
        "print(f\"Area of rectangle: {rectangle.area()}\")"
      ],
      "metadata": {
        "colab": {
          "base_uri": "https://localhost:8080/"
        },
        "id": "YwM46oYKKL8N",
        "outputId": "6e6f756a-461b-4e83-8384-067db02732a6"
      },
      "execution_count": null,
      "outputs": [
        {
          "output_type": "stream",
          "name": "stdout",
          "text": [
            "Area of circle: 78.53975\n",
            "Area of rectangle: 24\n"
          ]
        }
      ]
    },
    {
      "cell_type": "code",
      "source": [
        "# 3) Implement a multi-level inheritance scenario where a class Vehicle has an attribute type. Derive a class Car and further derive a class ElectricCar that adds a battery attribute.\n",
        "\n",
        "class Vehicle:\n",
        "    def __init__(self, type):\n",
        "        self.type = type\n",
        "\n",
        "class Car(Vehicle):\n",
        "    def __init__(self, type, model):\n",
        "        super().__init__(type)\n",
        "        self.model = model\n",
        "\n",
        "class ElectricCar(Car):\n",
        "    def __init__(self, type, model, battery):\n",
        "        super().__init__(type, model)\n",
        "        self.battery = battery\n",
        "\n",
        "# Example usage\n",
        "my_vehicle = Vehicle(\"Generic\")\n",
        "my_car = Car(\"Car\", \"Sedan\")\n",
        "my_electric_car = ElectricCar(\"Electric Car\", \"Tesla Model S\", \"100 kWh\")\n",
        "\n",
        "print(f\"Vehicle Type: {my_vehicle.type}\")\n",
        "print(f\"Car Model: {my_car.model}, Type: {my_car.type}\")\n",
        "print(f\"Electric Car Model: {my_electric_car.model}, Type: {my_electric_car.type}, Battery: {my_electric_car.battery}\")"
      ],
      "metadata": {
        "colab": {
          "base_uri": "https://localhost:8080/"
        },
        "id": "MSegeykiJLeS",
        "outputId": "8134b7a3-f55c-4f80-cde9-175fbfe7d1f2"
      },
      "execution_count": null,
      "outputs": [
        {
          "output_type": "stream",
          "name": "stdout",
          "text": [
            "Vehicle Type: Generic\n",
            "Car Model: Sedan, Type: Car\n",
            "Electric Car Model: Tesla Model S, Type: Electric Car, Battery: 100 kWh\n"
          ]
        }
      ]
    },
    {
      "cell_type": "code",
      "source": [
        "# 4) Demonstrate polymorphism by creating a base class Bird with a method fly(). Create two derived classes Sparrow and Penguin that override the fly() method.\n",
        "\n",
        "class Bird:\n",
        "    def fly(self):\n",
        "        print(\"Bird is flying\")\n",
        "\n",
        "class Sparrow(Bird):\n",
        "    def fly(self):\n",
        "        print(\"Sparrow is flying\")\n",
        "\n",
        "class Penguin(Bird):\n",
        "    def fly(self):\n",
        "        print(\"Penguin cannot fly\")\n",
        "\n",
        "# Example usage\n",
        "bird = Bird()\n",
        "sparrow = Sparrow()\n",
        "penguin = Penguin()\n",
        "\n",
        "bird.fly()\n",
        "sparrow.fly()\n",
        "penguin.fly()"
      ],
      "metadata": {
        "colab": {
          "base_uri": "https://localhost:8080/"
        },
        "id": "Bk36dpEbLpah",
        "outputId": "b3e02a7d-80df-4c7f-b358-854f13764914"
      },
      "execution_count": null,
      "outputs": [
        {
          "output_type": "stream",
          "name": "stdout",
          "text": [
            "Bird is flying\n",
            "Sparrow is flying\n",
            "Penguin cannot fly\n"
          ]
        }
      ]
    },
    {
      "cell_type": "code",
      "source": [
        "# 5) Write a program to demonstrate encapsulation by creating a class BankAccount with private attributes balance and methods to deposit, withdraw, and check balance.\n",
        "\n",
        "class BankAccount:\n",
        "    \"\"\"\n",
        "    A class to represent a bank account with encapsulation.\n",
        "    \"\"\"\n",
        "    def __init__(self, initial_balance=0):\n",
        "        \"\"\"\n",
        "        Initializes the BankAccount with a private balance.\n",
        "        \"\"\"\n",
        "        self.__balance = initial_balance  # Private attribute\n",
        "\n",
        "    def deposit(self, amount):\n",
        "        \"\"\"\n",
        "        Deposits money into the account.\n",
        "        \"\"\"\n",
        "        if amount > 0:\n",
        "            self.__balance += amount\n",
        "            print(f\"Deposited: ${amount:.2f}. New balance: ${self.__balance:.2f}\")\n",
        "        else:\n",
        "            print(\"Invalid deposit amount.\")\n",
        "\n",
        "    def withdraw(self, amount):\n",
        "        \"\"\"\n",
        "        Withdraws money from the account.\n",
        "        \"\"\"\n",
        "        if 0 < amount <= self.__balance:\n",
        "            self.__balance -= amount\n",
        "            print(f\"Withdrew: ${amount:.2f}. New balance: ${self.__balance:.2f}\")\n",
        "        else:\n",
        "            print(\"Insufficient funds or invalid withdrawal amount.\")\n",
        "\n",
        "    def get_balance(self):\n",
        "        \"\"\"\n",
        "        Returns the current balance.\n",
        "        \"\"\"\n",
        "        return self.__balance\n",
        "\n",
        "# Example usage\n",
        "if __name__ == \"__main__\":\n",
        "    account = BankAccount(100)\n",
        "    print(f\"Initial balance: ${account.get_balance():.2f}\")\n",
        "\n",
        "    account.deposit(50)\n",
        "    account.withdraw(20)\n",
        "    account.withdraw(200) # Example of insufficient funds\n",
        "    print(f\"Current balance: ${account.get_balance():.2f}\")"
      ],
      "metadata": {
        "colab": {
          "base_uri": "https://localhost:8080/"
        },
        "id": "k5Nok0EMMWi2",
        "outputId": "637e629e-88ab-4a77-a5ab-8f0d644f76c7"
      },
      "execution_count": null,
      "outputs": [
        {
          "output_type": "stream",
          "name": "stdout",
          "text": [
            "Initial balance: $100.00\n",
            "Deposited: $50.00. New balance: $150.00\n",
            "Withdrew: $20.00. New balance: $130.00\n",
            "Insufficient funds or invalid withdrawal amount.\n",
            "Current balance: $130.00\n"
          ]
        }
      ]
    },
    {
      "cell_type": "code",
      "source": [
        "# 6) Demonstrate runtime polymorphism using a method play() in a base class Instrument. Derive classes Guitar and Piano that implement their own version of play().\n",
        "\n",
        "# Base class\n",
        "class Instrument:\n",
        "    def play(self):\n",
        "        print(\"Playing an instrument.\")\n",
        "\n",
        "# Derived class 1\n",
        "class Guitar(Instrument):\n",
        "    def play(self):\n",
        "        print(\"Strumming the guitar.\")\n",
        "\n",
        "# Derived class 2\n",
        "class Piano(Instrument):\n",
        "    def play(self):\n",
        "        print(\"Playing the piano.\")\n",
        "\n",
        "# Runtime Polymorphism in action\n",
        "def perform(instrument):\n",
        "    instrument.play()\n",
        "\n",
        "# Create instances\n",
        "i1 = Guitar()\n",
        "i2 = Piano()\n",
        "\n",
        "# Call the same method on different objects\n",
        "perform(i1)  # Output: Strumming the guitar.\n",
        "perform(i2)  # Output: Playing the piano."
      ],
      "metadata": {
        "colab": {
          "base_uri": "https://localhost:8080/"
        },
        "id": "esXgqTCeNX8w",
        "outputId": "58678518-9fbc-41bd-af1d-405cb1dbb994"
      },
      "execution_count": null,
      "outputs": [
        {
          "output_type": "stream",
          "name": "stdout",
          "text": [
            "Strumming the guitar.\n",
            "Playing the piano.\n"
          ]
        }
      ]
    },
    {
      "cell_type": "code",
      "source": [
        "# 7) Create a class MathOperations with a class method add_numbers() to add two numbers and a static method subtract_numbers() to subtract two numbers.\n",
        "\n",
        "class MathOperations:\n",
        "    @classmethod\n",
        "    def add_numbers(cls, num1, num2):\n",
        "        \"\"\"\n",
        "        Adds two numbers using a class method.\n",
        "        Class methods receive the class itself as the first argument (conventionally 'cls').\n",
        "        \"\"\"\n",
        "        return num1 + num2\n",
        "\n",
        "    @staticmethod\n",
        "    def subtract_numbers(num1, num2):\n",
        "        \"\"\"\n",
        "        Subtracts two numbers using a static method.\n",
        "        Static methods do not receive any implicit first argument (like 'self' or 'cls').\n",
        "        They behave like regular functions but are logically grouped within a class.\n",
        "        \"\"\"\n",
        "        return num1 - num2\n",
        "\n",
        "# Example Usage:\n",
        "# Calling the class method\n",
        "sum_result = MathOperations.add_numbers(10, 5)\n",
        "print(f\"Sum: {sum_result}\")\n",
        "\n",
        "# Calling the static method\n",
        "difference_result = MathOperations.subtract_numbers(10, 5)\n",
        "print(f\"Difference: {difference_result}\")"
      ],
      "metadata": {
        "colab": {
          "base_uri": "https://localhost:8080/"
        },
        "id": "Vs0NNoU2OegL",
        "outputId": "a9656c6a-cf5e-4e84-ae6b-8144d48f9ef5"
      },
      "execution_count": null,
      "outputs": [
        {
          "output_type": "stream",
          "name": "stdout",
          "text": [
            "Sum: 15\n",
            "Difference: 5\n"
          ]
        }
      ]
    },
    {
      "cell_type": "code",
      "source": [
        "# 8) Implement a class Person with a class method to count the total number of persons created.\n",
        "\n",
        "class Person:\n",
        "    \"\"\"\n",
        "    A class to represent a person, with a class method to count the total number of people created.\n",
        "    \"\"\"\n",
        "\n",
        "    _person_count = 0  # Class-level variable to track the number of persons\n",
        "\n",
        "    def __init__(self, name, age):\n",
        "        \"\"\"\n",
        "        Initializes a Person object.\n",
        "\n",
        "        Args:\n",
        "            name (str): The name of the person.\n",
        "            age (int): The age of the person.\n",
        "        \"\"\"\n",
        "        self.name = name\n",
        "        self.age = age\n",
        "        Person._person_count += 1\n",
        "\n",
        "    @classmethod\n",
        "    def get_person_count(cls):\n",
        "        \"\"\"\n",
        "        Class method to get the total number of Person objects created.\n",
        "\n",
        "        Returns:\n",
        "            int: The total number of Person objects.\n",
        "        \"\"\"\n",
        "        return cls._person_count\n",
        "\n",
        "\n",
        "# Example usage:\n",
        "person1 = Person(\"Alice\", 30)\n",
        "person2 = Person(\"Bob\", 25)\n",
        "person3 = Person(\"Charlie\", 40)\n",
        "\n",
        "print(f\"Total number of persons created: {Person.get_person_count()}\")  # Output: 3"
      ],
      "metadata": {
        "colab": {
          "base_uri": "https://localhost:8080/"
        },
        "id": "wEMPV45wO4xt",
        "outputId": "ba81dc28-ddf6-4a28-e4f5-b444b6a7638f"
      },
      "execution_count": null,
      "outputs": [
        {
          "output_type": "stream",
          "name": "stdout",
          "text": [
            "Total number of persons created: 3\n"
          ]
        }
      ]
    },
    {
      "cell_type": "code",
      "source": [
        "# 9) Write a class Fraction with attributes numerator and denominator. Override the str method to display the fraction as \"numerator/denominator\".\n",
        "\n",
        "class Fraction:\n",
        "    def __init__(self, numerator, denominator):\n",
        "        self.numerator = numerator\n",
        "        self.denominator = denominator\n",
        "\n",
        "    def __str__(self):\n",
        "        return f\"{self.numerator}/{self.denominator}\"\n",
        "\n",
        "# Example usage\n",
        "f1 = Fraction(3, 4)\n",
        "print(f1)  # Output: 3/4\n",
        "\n",
        "f2 = Fraction(5, 8)\n",
        "print(f2)  # Output: 5/8"
      ],
      "metadata": {
        "colab": {
          "base_uri": "https://localhost:8080/"
        },
        "id": "1I2ZbwFDPSnP",
        "outputId": "8ea86cc6-e2ee-4329-9e0f-7c406a649de1"
      },
      "execution_count": null,
      "outputs": [
        {
          "output_type": "stream",
          "name": "stdout",
          "text": [
            "3/4\n",
            "5/8\n"
          ]
        }
      ]
    },
    {
      "cell_type": "code",
      "source": [
        "# 10) Demonstrate operator overloading by creating a class Vector and overriding the add method to add two vectors.\n",
        "\n",
        "class Vector:\n",
        "    def __init__(self, x, y):\n",
        "        \"\"\"\n",
        "        Initializes a Vector object with x and y components.\n",
        "        \"\"\"\n",
        "        self.x = x\n",
        "        self.y = y\n",
        "\n",
        "    def __add__(self, other):\n",
        "        \"\"\"\n",
        "        Overloads the '+' operator to add two Vector objects.\n",
        "        Returns a new Vector object representing the sum.\n",
        "        \"\"\"\n",
        "        if isinstance(other, Vector):\n",
        "            return Vector(self.x + other.x, self.y + other.y)\n",
        "        else:\n",
        "            raise TypeError(\"Unsupported operand type for +: 'Vector' and '{}'\".format(type(other).__name__))\n",
        "\n",
        "    def __str__(self):\n",
        "        \"\"\"\n",
        "        Provides a string representation for the Vector object.\n",
        "        \"\"\"\n",
        "        return f\"Vector({self.x}, {self.y})\"\n",
        "\n",
        "# Create two Vector objects\n",
        "vector1 = Vector(3, 4)\n",
        "vector2 = Vector(1, 2)\n",
        "\n",
        "# Add the two vectors using the overloaded '+' operator\n",
        "vector_sum = vector1 + vector2\n",
        "\n",
        "# Print the resulting vector\n",
        "print(vector_sum)"
      ],
      "metadata": {
        "id": "Cp26CCWWhUQT",
        "outputId": "89b3c29d-67a9-4df8-a29e-e6d65fa88db7",
        "colab": {
          "base_uri": "https://localhost:8080/"
        }
      },
      "execution_count": null,
      "outputs": [
        {
          "output_type": "stream",
          "name": "stdout",
          "text": [
            "Vector(4, 6)\n"
          ]
        }
      ]
    },
    {
      "cell_type": "code",
      "source": [
        "\n",
        "# 11) Create a class Person with attributes name and age. Add a method greet() that prints \"Hello, my name is (name) and I am [age] years old.\"\n",
        "\n",
        "\n",
        "class Person:\n",
        "    def __init__(self, name, age):\n",
        "        \"\"\"\n",
        "        Initializes a new Person object.\n",
        "\n",
        "        Args:\n",
        "            name (str): The name of the person.\n",
        "            age (int): The age of the person.\n",
        "        \"\"\"\n",
        "        self.name = name\n",
        "        self.age = age\n",
        "\n",
        "    def greet(self):\n",
        "        \"\"\"\n",
        "        Prints a greeting message including the person's name and age.\n",
        "        \"\"\"\n",
        "        print(f\"Hello, my name is {self.name} and I am {self.age} years old.\")\n",
        "\n",
        "# Example usage:\n",
        "# Create an instance of the Person class\n",
        "person1 = Person(\"Alice\", 30)\n",
        "\n",
        "# Call the greet method\n",
        "person1.greet()\n",
        "\n",
        "# Create another instance\n",
        "person2 = Person(\"Bob\", 25)\n",
        "person2.greet()"
      ],
      "metadata": {
        "colab": {
          "base_uri": "https://localhost:8080/"
        },
        "id": "Hxl_l3staO6t",
        "outputId": "8ce35955-d763-4ba9-de8c-94800a243570"
      },
      "execution_count": null,
      "outputs": [
        {
          "output_type": "stream",
          "name": "stdout",
          "text": [
            "Hello, my name is Alice and I am 30 years old.\n",
            "Hello, my name is Bob and I am 25 years old.\n"
          ]
        }
      ]
    },
    {
      "cell_type": "code",
      "source": [
        "#12) Implement a class Student with attributes name and grades. Create a method average_grade() to compute the average of the grades.\n",
        "\n",
        "\n",
        "class Student:\n",
        "    def __init__(self, name, grades=None):\n",
        "        \"\"\"\n",
        "        Initializes a Student object.\n",
        "\n",
        "        Args:\n",
        "            name (str): The name of the student.\n",
        "            grades (list, optional): A list of numerical grades. Defaults to None.\n",
        "        \"\"\"\n",
        "        self.name = name\n",
        "        self.grades = grades if grades is not None else []\n",
        "\n",
        "    def add_grade(self, grade):\n",
        "        \"\"\"\n",
        "        Adds a grade to the student's list of grades.\n",
        "\n",
        "        Args:\n",
        "            grade (int or float): The grade to add.\n",
        "        \"\"\"\n",
        "        self.grades.append(grade)\n",
        "\n",
        "    def average_grade(self):\n",
        "        \"\"\"\n",
        "        Calculates the average of the student's grades.\n",
        "\n",
        "        Returns:\n",
        "            float: The average grade, or None if no grades are available.\n",
        "        \"\"\"\n",
        "        if not self.grades:\n",
        "            return None\n",
        "        return sum(self.grades) / len(self.grades)\n",
        "\n",
        "\n",
        "# Example usage:\n",
        "student1 = Student(\"Alice\", [85, 90, 78, 92])\n",
        "print(f\"{student1.name}'s average grade: {student1.average_grade()}\")\n",
        "\n",
        "student2 = Student(\"Bob\")\n",
        "print(f\"{student2.name}'s average grade: {student2.average_grade()}\")\n",
        "\n",
        "student2.add_grade(70)\n",
        "student2.add_grade(80)\n",
        "print(f\"{student2.name}'s average grade: {student2.average_grade()}\")"
      ],
      "metadata": {
        "colab": {
          "base_uri": "https://localhost:8080/"
        },
        "id": "4hKp_oj6aykH",
        "outputId": "636ada81-c017-4c95-ae28-0caf8c12ee64"
      },
      "execution_count": null,
      "outputs": [
        {
          "output_type": "stream",
          "name": "stdout",
          "text": [
            "Alice's average grade: 86.25\n",
            "Bob's average grade: None\n",
            "Bob's average grade: 75.0\n"
          ]
        }
      ]
    },
    {
      "cell_type": "code",
      "source": [
        "# 13) Create a class Rectangle with methods set_dimensions() to set the dimensions and area() to calculate the area.\n",
        "\n",
        "class Rectangle:\n",
        "    def __init__(self):\n",
        "        self.length = 0\n",
        "        self.width = 0\n",
        "\n",
        "    def set_dimensions(self, length, width):\n",
        "        self.length = length\n",
        "        self.width = width\n",
        "\n",
        "    def area(self):\n",
        "        return self.length * self.width\n",
        "\n",
        "# Example usage\n",
        "rect = Rectangle()\n",
        "rect.set_dimensions(5, 3)\n",
        "print(\"Area:\", rect.area())  # Output: Area: 15"
      ],
      "metadata": {
        "colab": {
          "base_uri": "https://localhost:8080/"
        },
        "id": "qTBpd4CQbicK",
        "outputId": "9d931182-c238-4be9-dbdd-5824462e131a"
      },
      "execution_count": 1,
      "outputs": [
        {
          "output_type": "stream",
          "name": "stdout",
          "text": [
            "Area: 15\n"
          ]
        }
      ]
    },
    {
      "cell_type": "code",
      "source": [
        "# 14) Create a class Employee with a method calculate_salary() that computes the salary based on hours worked and hourly rate. Create a derived class Manager that adds a bonus to the salary.\n",
        "\n",
        "class Employee:\n",
        "    def __init__(self, hourly_rate):\n",
        "        self.hourly_rate = hourly_rate\n",
        "\n",
        "    def calculate_salary(self, hours_worked):\n",
        "        return self.hourly_rate * hours_worked\n",
        "\n",
        "class Manager(Employee):\n",
        "    def __init__(self, hourly_rate, bonus):\n",
        "        super().__init__(hourly_rate)\n",
        "        self.bonus = bonus\n",
        "\n",
        "    def calculate_salary(self, hours_worked):\n",
        "        employee_salary = super().calculate_salary(hours_worked)\n",
        "        return employee_salary + self.bonus\n",
        "\n",
        "# Example usage\n",
        "employee = Employee(hourly_rate=25)\n",
        "manager = Manager(hourly_rate=30, bonus=1000)\n",
        "\n",
        "print(f\"Employee salary: {employee.calculate_salary(40)}\")\n",
        "print(f\"Manager salary: {manager.calculate_salary(40)}\")"
      ],
      "metadata": {
        "colab": {
          "base_uri": "https://localhost:8080/"
        },
        "id": "9oxyrXXzb2Jw",
        "outputId": "83de5905-5b1a-4a15-91e3-c2ce2471b8ff"
      },
      "execution_count": null,
      "outputs": [
        {
          "output_type": "stream",
          "name": "stdout",
          "text": [
            "Employee salary: 1000\n",
            "Manager salary: 2200\n"
          ]
        }
      ]
    },
    {
      "cell_type": "code",
      "source": [
        "# 15) Create a class Product with attributes name, price, and quantity. Implement a method total price() that calculates the total price of the product.\n",
        "\n",
        "class Product:\n",
        "    def __init__(self, name, price, quantity):\n",
        "        self.name = name\n",
        "        self.price = price\n",
        "        self.quantity = quantity\n",
        "\n",
        "    def total_price(self):\n",
        "        return self.price * self.quantity\n",
        "\n",
        "# Example usage\n",
        "item = Product(\"Notebook\", 50, 10)\n",
        "print(f\"Product: {item.name}\")\n",
        "print(f\"Total Price: ₹{item.total_price()}\")  # Output: ₹500"
      ],
      "metadata": {
        "colab": {
          "base_uri": "https://localhost:8080/"
        },
        "id": "yo8C2oSIcJ5T",
        "outputId": "805ef463-0304-4f24-f3ff-fff353fc6957"
      },
      "execution_count": 2,
      "outputs": [
        {
          "output_type": "stream",
          "name": "stdout",
          "text": [
            "Product: Notebook\n",
            "Total Price: ₹500\n"
          ]
        }
      ]
    },
    {
      "cell_type": "code",
      "source": [
        "# 16) Create a class Animal with an abstract method sound(). Create two derived classes Cow and Sheep that implement the sound() method.\n",
        "\n",
        "from abc import ABC, abstractmethod\n",
        "\n",
        "class Animal(ABC):\n",
        "    @abstractmethod\n",
        "    def sound(self):\n",
        "        pass\n",
        "\n",
        "class Cow(Animal):\n",
        "    def sound(self):\n",
        "        return \"Moo\"\n",
        "\n",
        "class Sheep(Animal):\n",
        "    def sound(self):\n",
        "        return \"Baa\"\n",
        "\n",
        "# Example usage\n",
        "my_cow = Cow()\n",
        "print(f\"Cow says: {my_cow.sound()}\")\n",
        "\n",
        "my_sheep = Sheep()\n",
        "print(f\"Sheep says: {my_sheep.sound()}\")"
      ],
      "metadata": {
        "colab": {
          "base_uri": "https://localhost:8080/"
        },
        "id": "EC6-M-glckTA",
        "outputId": "89ed57f8-5883-4af1-e2d8-498f222612f7"
      },
      "execution_count": null,
      "outputs": [
        {
          "output_type": "stream",
          "name": "stdout",
          "text": [
            "Cow says: Moo\n",
            "Sheep says: Baa\n"
          ]
        }
      ]
    },
    {
      "cell_type": "code",
      "source": [
        "# 17) Create a class Book with attributes title, author, and year_published. Add a method get_book_info() that returns a formatted string with the book's details.\n",
        "\n",
        "class Book:\n",
        "    def __init__(self, title, author, year_published):\n",
        "        self.title = title\n",
        "        self.author = author\n",
        "        self.year_published = year_published\n",
        "\n",
        "    def get_book_info(self):\n",
        "        return f\"'{self.title}' by {self.author}, published in {self.year_published}.\"\n",
        "\n",
        "# Example usage\n",
        "book1 = Book(\"1984\", \"George Orwell\", 1949)\n",
        "print(book1.get_book_info())\n",
        "# Output: '1984' by George Orwell, published in 1949."
      ],
      "metadata": {
        "colab": {
          "base_uri": "https://localhost:8080/"
        },
        "id": "VMOI3RS2dRZB",
        "outputId": "962398f4-cc7b-4aea-f270-3689c43fb815"
      },
      "execution_count": 3,
      "outputs": [
        {
          "output_type": "stream",
          "name": "stdout",
          "text": [
            "'1984' by George Orwell, published in 1949.\n"
          ]
        }
      ]
    },
    {
      "cell_type": "code",
      "source": [
        "# 18)Create a class House with attributes address and price. Create a derived class Mansion that adds an attribute number_of_rooms.\n",
        "\n",
        "# Base class\n",
        "class House:\n",
        "    def __init__(self, address, price):\n",
        "        self.address = address\n",
        "        self.price = price\n",
        "\n",
        "# Derived class\n",
        "class Mansion(House):\n",
        "    def __init__(self, address, price, number_of_rooms):\n",
        "        super().__init__(address, price)  # Call parent constructor\n",
        "        self.number_of_rooms = number_of_rooms\n",
        "\n",
        "# Example usage\n",
        "m = Mansion(\"123 Luxury Lane\", 50000000, 10)\n",
        "print(f\"Address: {m.address}\")\n",
        "print(f\"Price: ₹{m.price}\")\n",
        "print(f\"Number of Rooms: {m.number_of_rooms}\")"
      ],
      "metadata": {
        "colab": {
          "base_uri": "https://localhost:8080/"
        },
        "id": "4clqvOuVeF7I",
        "outputId": "8fe28b8e-070a-4678-bc17-95e8d79effd9"
      },
      "execution_count": 4,
      "outputs": [
        {
          "output_type": "stream",
          "name": "stdout",
          "text": [
            "Address: 123 Luxury Lane\n",
            "Price: ₹50000000\n",
            "Number of Rooms: 10\n"
          ]
        }
      ]
    }
  ]
}