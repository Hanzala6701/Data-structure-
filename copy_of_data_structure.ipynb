{
  "nbformat": 4,
  "nbformat_minor": 0,
  "metadata": {
    "colab": {
      "provenance": [],
      "authorship_tag": "ABX9TyM7/4YPUye/8Oo1hZByuyWB",
      "include_colab_link": true
    },
    "kernelspec": {
      "name": "python3",
      "display_name": "Python 3"
    },
    "language_info": {
      "name": "python"
    }
  },
  "cells": [
    {
      "cell_type": "markdown",
      "metadata": {
        "id": "view-in-github",
        "colab_type": "text"
      },
      "source": [
        "<a href=\"https://colab.research.google.com/github/Hanzala6701/Data-structure-/blob/main/copy_of_data_structure.ipynb\" target=\"_parent\"><img src=\"https://colab.research.google.com/assets/colab-badge.svg\" alt=\"Open In Colab\"/></a>"
      ]
    },
    {
      "cell_type": "markdown",
      "source": [
        "1) What are data structures, and why are they important?\n",
        "\n",
        " -Data structures are a way of organizing and storing data in a computer so that it can be used efficiently."
      ],
      "metadata": {
        "id": "tZqGGy86wIK0"
      }
    },
    {
      "cell_type": "markdown",
      "source": [
        "2)Explain the difference between mutable and immutable data types with examples.\n",
        "\n",
        "-Mutable data types are those whose values can be changed after they are created, while immutable data types cannot be modified once created."
      ],
      "metadata": {
        "id": "4-YYgGg6wtTY"
      }
    },
    {
      "cell_type": "markdown",
      "source": [
        "3) What are the main differences between lists and tuples in Python?\n",
        "\n",
        "-Lists and tuples are both used to store sequences of items in Python, but they differ significantly in their mutability and usage."
      ],
      "metadata": {
        "id": "byV3niXKw7Wr"
      }
    },
    {
      "cell_type": "markdown",
      "source": [
        "4)Describe how dictionaries store data?\n",
        "\n",
        "-Dictionaries are unordered collections of data and are represented with curly brackets { } ."
      ],
      "metadata": {
        "id": "WiHvs7_fywwF"
      }
    },
    {
      "cell_type": "markdown",
      "source": [
        "5)Why might you use a set instead of a list in Python?\n",
        "\n",
        "-Sets and lists are both used to store collections of items in Python, but they have key differences that make them suitable for different tasks."
      ],
      "metadata": {
        "id": "hTieGX5qzEfs"
      }
    },
    {
      "cell_type": "markdown",
      "source": [
        "6) What is a string in Python, and how is it different from a list?\n",
        "\n",
        "-A string is a sequence of characters. A list a sequence of values which can be characters, integers or even another list (referred to as a nested list)"
      ],
      "metadata": {
        "id": "k2paBz-7zo5a"
      }
    },
    {
      "cell_type": "markdown",
      "source": [
        "7) What is a string in Python, and how is it different from a list?\n",
        "\n",
        "-A string is a sequence of characters. A list a sequence of values which can be characters, integers or even another list referred to as a nested list."
      ],
      "metadata": {
        "id": "zKd0Ahriz_Zj"
      }
    },
    {
      "cell_type": "markdown",
      "source": [
        "8) What is a hash table, and how does it relate to dictionaries in Python?\n",
        "\n",
        "-A hash table is a data structure that stores key-value pairs. It uses a hash function to compute an index (hash code) for each key, which determines where the value is stored in an underlying array."
      ],
      "metadata": {
        "id": "H5mtLO4z0kOL"
      }
    },
    {
      "cell_type": "markdown",
      "source": [
        "9) Can lists contain different data types in Python?\n",
        "\n",
        "-Yes, lists in Python can contain different data types. This means a single list can hold integers, floats, strings, booleans, and even other lists, tuples, or dictionaries."
      ],
      "metadata": {
        "id": "ejGFdvUS0u78"
      }
    },
    {
      "cell_type": "markdown",
      "source": [
        "10) Explain why strings are immutable in Python.\n",
        "\n",
        "-In Python, strings are immutable, which means that once a string is created, its value cannot be altered."
      ],
      "metadata": {
        "id": "353ZFE6209aI"
      }
    },
    {
      "cell_type": "markdown",
      "source": [
        "11) What advantages do dictionaries offer over lists for certain tasks?\n",
        "\n",
        "-Dictionaries excel in scenarios requiring fast lookups, key-value associations, and complex data mappings, while lists are ideal for ordered collections, sequential processing, and simple data storage."
      ],
      "metadata": {
        "id": "6OZY1T211OKi"
      }
    },
    {
      "cell_type": "markdown",
      "source": [
        "12) Describe a scenario where using a tuple would be preferable over a list.\n",
        "\n",
        "-Use a tuple if you need an immutable collection where the elements won't change after creation."
      ],
      "metadata": {
        "id": "cfPiLC6p1msG"
      }
    },
    {
      "cell_type": "markdown",
      "source": [
        "13) How do sets handle duplicate values in Python?\n",
        "\n",
        "-In Python, sets are designed to store only unique elements. When you attempt to add a duplicate value to a set, it does not raise an error, but it also does not add the duplicate."
      ],
      "metadata": {
        "id": "Cxgr6otati2P"
      }
    },
    {
      "cell_type": "markdown",
      "source": [
        "14) How does the \"in\" keyword work differently for lists and dictionaries?\n",
        "\n",
        "-The in operator uses different algorithms for lists and dictionaries. For lists, it uses a search algorithm."
      ],
      "metadata": {
        "id": "fzQ5LHzXtzYC"
      }
    },
    {
      "cell_type": "markdown",
      "source": [
        "15) Can you modify the elements of a tuple? Explain why or why not.\n",
        "\n",
        "-No, you cannot directly modify the elements of a tuple in Python. Tuples are immutable, meaning their contents cannot be changed after creation."
      ],
      "metadata": {
        "id": "A32cTntBuKf5"
      }
    },
    {
      "cell_type": "markdown",
      "source": [
        "16) What is a nested dictionary, and give an example of its use case?\n",
        "\n",
        "-A nested dictionary is a dictionary where at least one of the values is itself a dictionary."
      ],
      "metadata": {
        "id": "enXFghHFudGv"
      }
    },
    {
      "cell_type": "markdown",
      "source": [
        "17) Describe the time complexity of accessing elements in a dictionary.\n",
        "\n",
        "-Accessing elements in a dictionary (also known as a hash map or associative array) typically has a time complexity of O(1) on."
      ],
      "metadata": {
        "id": "K1ngjxiMulVD"
      }
    },
    {
      "cell_type": "markdown",
      "source": [
        "18) in what situations are lists preferred over dictionaries?\n",
        "\n",
        "-For ordered collections and sequence operations, such as maintaining a stack or queue, lists are more suitable."
      ],
      "metadata": {
        "id": "rgDPaC_fusBZ"
      }
    },
    {
      "cell_type": "markdown",
      "source": [
        "19)Why are dictionaries considered unordered, and how does that affect data retrieval?\n",
        "\n",
        "-dictionaries do not maintain any inherent order of the items based on when they were added."
      ],
      "metadata": {
        "id": "EBQKQRAMuxkQ"
      }
    },
    {
      "cell_type": "markdown",
      "source": [
        "20) Explain the difference between a list and a dictionary in terms of data retrieval.\n",
        "\n",
        "-In terms of data retrieval, lists are accessed by index, while dictionaries are accessed by key."
      ],
      "metadata": {
        "id": "o6H73J3Qu8mJ"
      }
    },
    {
      "cell_type": "code",
      "source": [
        "# 1- Write a code to create a string with your name and print it.\n",
        "name = \"Hanzala Charfare\"\n",
        "print(\"My name is:\", name)"
      ],
      "metadata": {
        "id": "k0GL4qEVXKIl",
        "colab": {
          "base_uri": "https://localhost:8080/"
        },
        "outputId": "1864cec5-d59c-4d65-ec02-028cb78d5b94"
      },
      "execution_count": null,
      "outputs": [
        {
          "output_type": "stream",
          "name": "stdout",
          "text": [
            "My name is: Hanzala Charfare\n"
          ]
        }
      ]
    },
    {
      "cell_type": "code",
      "source": [
        "# 2-Write a code to find the length of the string \"Hello World\".\n",
        "string = \"hello world\"\n",
        "length = len(string)\n",
        "print(length)"
      ],
      "metadata": {
        "colab": {
          "base_uri": "https://localhost:8080/"
        },
        "id": "f8jk-VyZYIvN",
        "outputId": "53902391-1c5c-49d1-96c4-a46a0143d75f"
      },
      "execution_count": null,
      "outputs": [
        {
          "output_type": "stream",
          "name": "stdout",
          "text": [
            "11\n"
          ]
        }
      ]
    },
    {
      "cell_type": "code",
      "source": [
        "# 3-Write a code to slice the first 3 characters from the string \"Python Programming\".\n",
        "original_string = \"Python Programming\"\n",
        "sliced_string = original_string[:3]\n",
        "print(sliced_string)"
      ],
      "metadata": {
        "colab": {
          "base_uri": "https://localhost:8080/"
        },
        "id": "hP-0wUyHY8C-",
        "outputId": "581ef1c3-0f1b-410b-d47d-42eb7dcd1c60"
      },
      "execution_count": null,
      "outputs": [
        {
          "output_type": "stream",
          "name": "stdout",
          "text": [
            "Pyt\n"
          ]
        }
      ]
    },
    {
      "cell_type": "markdown",
      "source": [],
      "metadata": {
        "id": "I5QUlOyfv0Nj"
      }
    },
    {
      "cell_type": "code",
      "source": [
        "# 4-Write a code to convert the string \"hello\" to uppercase.\n",
        "original_string = \"hello\"\n",
        "uppercase_string = original_string.upper()\n",
        "print(uppercase_string)"
      ],
      "metadata": {
        "colab": {
          "base_uri": "https://localhost:8080/"
        },
        "id": "dp9yeE99ZUm2",
        "outputId": "d971d975-025b-4a19-ca11-b439641afe6b"
      },
      "execution_count": null,
      "outputs": [
        {
          "output_type": "stream",
          "name": "stdout",
          "text": [
            "HELLO\n"
          ]
        }
      ]
    },
    {
      "cell_type": "code",
      "source": [
        "# 5-. Write a code to replace the word \"apple\" with \"orange\" in the string like apple\".\n",
        "text = \"I like apple\"\n",
        "new_text = text.replace(\"apple\", \"orange\")\n",
        "print(new_text)"
      ],
      "metadata": {
        "colab": {
          "base_uri": "https://localhost:8080/"
        },
        "id": "mdVdKdo7ZsCh",
        "outputId": "b68b12a4-0e2e-4978-a52c-a631c8e912df"
      },
      "execution_count": null,
      "outputs": [
        {
          "output_type": "stream",
          "name": "stdout",
          "text": [
            "I like orange\n"
          ]
        }
      ]
    },
    {
      "cell_type": "code",
      "source": [
        "\n",
        "# 6-Write a code to create a list with numbers 1 to 5 and print it.\n",
        "numbers = [1, 2, 3, 4, 5]\n",
        "print(numbers)"
      ],
      "metadata": {
        "colab": {
          "base_uri": "https://localhost:8080/"
        },
        "id": "pGnHvGw0avrq",
        "outputId": "8f9fc814-5516-4821-9374-f7f2f42638b5"
      },
      "execution_count": null,
      "outputs": [
        {
          "output_type": "stream",
          "name": "stdout",
          "text": [
            "[1, 2, 3, 4, 5]\n"
          ]
        }
      ]
    },
    {
      "cell_type": "code",
      "source": [
        "# 7- Write a code to append the number 10 to the list [1, 2, 3, 4]\n",
        "my_list = [1, 2, 3, 4]\n",
        "my_list.append(10)\n",
        "print(my_list)"
      ],
      "metadata": {
        "id": "0JmgmV19b6CC",
        "colab": {
          "base_uri": "https://localhost:8080/"
        },
        "outputId": "653ac804-40d8-4939-8da6-9949c0d58dbf"
      },
      "execution_count": null,
      "outputs": [
        {
          "output_type": "stream",
          "name": "stdout",
          "text": [
            "[1, 2, 3, 4, 10]\n"
          ]
        }
      ]
    },
    {
      "cell_type": "code",
      "source": [
        "\n",
        "# 8- Write a code to remove the number 3 from the list [1, 2, 3, 4, 5]..\n",
        "numbers = [1, 2, 3, 4, 5]\n",
        "numbers.remove(3)\n",
        "print(numbers)"
      ],
      "metadata": {
        "colab": {
          "base_uri": "https://localhost:8080/"
        },
        "id": "4F5yJWoOgKYI",
        "outputId": "d8682c68-4628-4468-9c07-87adc57d43c1"
      },
      "execution_count": null,
      "outputs": [
        {
          "output_type": "stream",
          "name": "stdout",
          "text": [
            "[1, 2, 4, 5]\n"
          ]
        }
      ]
    },
    {
      "cell_type": "code",
      "source": [
        "# 9- Write a code to access the second element in the list ['a', 'b', 'c', 'd').\n",
        "my_list = ['a', 'b', 'c', 'd']\n",
        "second_element = my_list[1]\n",
        "print(second_element)"
      ],
      "metadata": {
        "colab": {
          "base_uri": "https://localhost:8080/"
        },
        "id": "GG_XFojFgdrw",
        "outputId": "ef30f7ae-d387-434f-f113-00e83742e704"
      },
      "execution_count": null,
      "outputs": [
        {
          "output_type": "stream",
          "name": "stdout",
          "text": [
            "b\n"
          ]
        }
      ]
    },
    {
      "cell_type": "code",
      "source": [
        "\n",
        "# 10- Write a code to reverse the list (10, 20, 30, 40, 50).\n",
        "original_tuple = (10, 20, 30, 40, 50)\n",
        "temp_list = list(original_tuple)\n",
        "temp_list.reverse()\n",
        "reversed_tuple = tuple(temp_list)\n",
        "print(reversed_tuple)"
      ],
      "metadata": {
        "colab": {
          "base_uri": "https://localhost:8080/"
        },
        "id": "QGxpDZu0gxc0",
        "outputId": "b4d7b50e-edb4-4100-8eb9-43a72c3149d3"
      },
      "execution_count": null,
      "outputs": [
        {
          "output_type": "stream",
          "name": "stdout",
          "text": [
            "(50, 40, 30, 20, 10)\n"
          ]
        }
      ]
    },
    {
      "cell_type": "code",
      "source": [
        "# 11- Write a code to create a tuple with the elements 100, 200, 300 and print it.\n",
        "my_tuple = (100, 200, 300)\n",
        "print(my_tuple)"
      ],
      "metadata": {
        "colab": {
          "base_uri": "https://localhost:8080/"
        },
        "id": "gGR5ky3oh3Bc",
        "outputId": "d1e598c9-2f4b-4a8f-bd41-ef4960beb436"
      },
      "execution_count": null,
      "outputs": [
        {
          "output_type": "stream",
          "name": "stdout",
          "text": [
            "(100, 200, 300)\n"
          ]
        }
      ]
    },
    {
      "cell_type": "code",
      "source": [
        "# 12- Write a code to access the second-to-last element of the tuple ('red', 'green', 'blue', 'yellow').\n",
        "my_tuple = ('red', 'green', 'blue', 'yellow')\n",
        "second_to_last = my_tuple[-2]\n",
        "print(second_to_last)"
      ],
      "metadata": {
        "colab": {
          "base_uri": "https://localhost:8080/"
        },
        "id": "g9ylLMChiH0R",
        "outputId": "9144da82-49cf-44f1-815c-52261a5300d0"
      },
      "execution_count": null,
      "outputs": [
        {
          "output_type": "stream",
          "name": "stdout",
          "text": [
            "blue\n"
          ]
        }
      ]
    },
    {
      "cell_type": "code",
      "source": [
        "# 13- Write a code to find the minimum number in the tuple (10, 20, 5, 15).\n",
        "numbers = (10, 20, 5, 15)\n",
        "minimum_number = min(numbers)\n",
        "print(minimum_number)"
      ],
      "metadata": {
        "colab": {
          "base_uri": "https://localhost:8080/"
        },
        "id": "yAE6ePMViai7",
        "outputId": "6b4d87bb-3574-424f-f724-6d9c8b46bb0e"
      },
      "execution_count": null,
      "outputs": [
        {
          "output_type": "stream",
          "name": "stdout",
          "text": [
            "5\n"
          ]
        }
      ]
    },
    {
      "cell_type": "code",
      "source": [
        "# 14- Write a code to find the index of the element \"cat\" in the tuple ('dog, 'cat, rabbit').\n",
        "animals = ('dog', 'cat', 'rabbit')\n",
        "index_of_cat = animals.index('cat')\n",
        "print(\"Index of 'cat':\", index_of_cat)"
      ],
      "metadata": {
        "colab": {
          "base_uri": "https://localhost:8080/"
        },
        "id": "-9f9BKrXiua1",
        "outputId": "166a80fa-44ab-4c0b-b487-e4ed519ae823"
      },
      "execution_count": null,
      "outputs": [
        {
          "output_type": "stream",
          "name": "stdout",
          "text": [
            "Index of 'cat': 1\n"
          ]
        }
      ]
    },
    {
      "cell_type": "code",
      "source": [
        "# 15- Write a code to create a tuple containing three different fruits and check if \"kiwi\" is in it.\n",
        "fruits = (\"apple\", \"banana\", \"mango\")\n",
        "if \"kiwi\" in fruits:\n",
        "    print(\"Kiwi is in the tuple.\")\n",
        "else:\n",
        "    print(\"Kiwi is not in the tuple.\")"
      ],
      "metadata": {
        "colab": {
          "base_uri": "https://localhost:8080/"
        },
        "id": "i-5GwHnujiTv",
        "outputId": "db61be32-1eed-4e7d-8ace-79d9dcb62a4f"
      },
      "execution_count": null,
      "outputs": [
        {
          "output_type": "stream",
          "name": "stdout",
          "text": [
            "Kiwi is not in the tuple.\n"
          ]
        }
      ]
    },
    {
      "cell_type": "code",
      "source": [
        "# 16- Write a code to create a set with the elements 'a', 'b', 'c' and print it.\n",
        "my_set = {'a', 'b', 'c'}\n",
        "print(my_set)"
      ],
      "metadata": {
        "colab": {
          "base_uri": "https://localhost:8080/"
        },
        "id": "Sx01xKOQlRyy",
        "outputId": "cacfea15-9bb8-4f1a-ce51-629697a76440"
      },
      "execution_count": null,
      "outputs": [
        {
          "output_type": "stream",
          "name": "stdout",
          "text": [
            "{'b', 'c', 'a'}\n"
          ]
        }
      ]
    },
    {
      "cell_type": "code",
      "source": [
        "# 17- Write a code to clear all elements from the set {1, 2, 3, 4, 5).\n",
        "my_set = {1, 2, 3, 4, 5}\n",
        "my_set.clear()\n",
        "print(my_set)"
      ],
      "metadata": {
        "colab": {
          "base_uri": "https://localhost:8080/"
        },
        "id": "Ev_4TRpSljGw",
        "outputId": "06118983-2822-457b-c467-04c94fe0dde1"
      },
      "execution_count": null,
      "outputs": [
        {
          "output_type": "stream",
          "name": "stdout",
          "text": [
            "set()\n"
          ]
        }
      ]
    },
    {
      "cell_type": "code",
      "source": [
        "# 18-Write a code to remove the element 4 from the set (1, 2, 3, 4).\n",
        "my_set = {1, 2, 3, 4}\n",
        "my_set.remove(4)\n",
        "print(my_set)"
      ],
      "metadata": {
        "colab": {
          "base_uri": "https://localhost:8080/"
        },
        "id": "8Owbjo_2l2Rp",
        "outputId": "e5e6be10-8e0a-42e5-f494-810c06ab97ca"
      },
      "execution_count": null,
      "outputs": [
        {
          "output_type": "stream",
          "name": "stdout",
          "text": [
            "{1, 2, 3}\n"
          ]
        }
      ]
    },
    {
      "cell_type": "code",
      "source": [
        "# 19- Write a code to find the union of two sets (1, 2, 3) and (3, 4, 5).\n",
        "set1 = {1, 2, 3}\n",
        "set2 = {3, 4, 5}\n",
        "union_set = set1.union(set2)\n",
        "print(\"Union of sets:\", union_set)"
      ],
      "metadata": {
        "colab": {
          "base_uri": "https://localhost:8080/"
        },
        "id": "ZjUGoYqwmKMd",
        "outputId": "411e7130-f956-4e17-8417-12e86ce33f48"
      },
      "execution_count": null,
      "outputs": [
        {
          "output_type": "stream",
          "name": "stdout",
          "text": [
            "Union of sets: {1, 2, 3, 4, 5}\n"
          ]
        }
      ]
    },
    {
      "cell_type": "code",
      "source": [
        "# 20- Write a code to find the intersection of two sets (1, 2, 3) and (2, 3, 4).\n",
        "set1 = {1, 2, 3}\n",
        "set2 = {2, 3, 4}\n",
        "intersection_set = set1.intersection(set2)\n",
        "print(intersection_set)"
      ],
      "metadata": {
        "colab": {
          "base_uri": "https://localhost:8080/"
        },
        "id": "3JpIYuMZnAIR",
        "outputId": "4629670c-c821-43d9-de26-f3c92db3099d"
      },
      "execution_count": null,
      "outputs": [
        {
          "output_type": "stream",
          "name": "stdout",
          "text": [
            "{2, 3}\n"
          ]
        }
      ]
    },
    {
      "cell_type": "code",
      "source": [
        "\n",
        "# 21- Write a code to create a dictionary with the keys \"name\", \"age\", and \"city\", and print it.\n",
        "\n",
        "person = {\n",
        "    \"name\": \"Hanzala\",\n",
        "    \"age\": 23,\n",
        "    \"city\": \"Mumbai\"\n",
        "}\n",
        "print(person)"
      ],
      "metadata": {
        "colab": {
          "base_uri": "https://localhost:8080/"
        },
        "id": "o37AyBO6nXPd",
        "outputId": "8decd319-72ea-426b-8095-d105c7c098cb"
      },
      "execution_count": null,
      "outputs": [
        {
          "output_type": "stream",
          "name": "stdout",
          "text": [
            "{'name': 'Hanzala', 'age': 23, 'city': 'Mumbai'}\n"
          ]
        }
      ]
    },
    {
      "cell_type": "code",
      "source": [
        "# 22- Write a code to add a new key-value pair \"country\": \"USA\" to the dictionary ('name': 'Hanzala', 'age': 23).\n",
        "person = {\n",
        "    \"name\": \"Hanzala\",\n",
        "    \"age\": 23,\n",
        "    \"city\": \"New York\"\n",
        "}\n",
        "print(person)"
      ],
      "metadata": {
        "colab": {
          "base_uri": "https://localhost:8080/"
        },
        "id": "lxh6XhLQoIDe",
        "outputId": "c59e5982-65f9-47ad-b991-80f52cf52e90"
      },
      "execution_count": null,
      "outputs": [
        {
          "output_type": "stream",
          "name": "stdout",
          "text": [
            "{'name': 'Hanzala', 'age': 23, 'city': 'New York'}\n"
          ]
        }
      ]
    },
    {
      "cell_type": "code",
      "source": [
        "# 23-Write a code to access the value associated with the key \"name\" in the dictionary ['name': 'Alice', 'age: 30).\n",
        "my_dict = {'name': 'Alice', 'age': 30}\n",
        "name_value = my_dict['name']\n",
        "print(name_value)"
      ],
      "metadata": {
        "colab": {
          "base_uri": "https://localhost:8080/"
        },
        "id": "toXNhb0ioumS",
        "outputId": "63f1c710-07fb-4787-c162-e63d569a4611"
      },
      "execution_count": null,
      "outputs": [
        {
          "output_type": "stream",
          "name": "stdout",
          "text": [
            "Alice\n"
          ]
        }
      ]
    },
    {
      "cell_type": "code",
      "source": [
        "# 24-Write a code to remove the key 'age' from the dictionary ('name': 'Hanzala', 'age': 23, 'city: 'New York).\n",
        "person = {\n",
        "    'name': 'Hanzala',\n",
        "    'age': 23,\n",
        "    'city': 'New York'\n",
        "}\n",
        "person.pop('age')\n",
        "print(person)"
      ],
      "metadata": {
        "colab": {
          "base_uri": "https://localhost:8080/"
        },
        "id": "zY-p7Vpuqckr",
        "outputId": "aa7e2c6b-28bc-4f65-f7f2-2204efadb1ad"
      },
      "execution_count": null,
      "outputs": [
        {
          "output_type": "stream",
          "name": "stdout",
          "text": [
            "{'name': 'Hanzala', 'city': 'New York'}\n"
          ]
        }
      ]
    },
    {
      "cell_type": "code",
      "source": [
        "# 25- Write a code to check if the key \"city' exists in the dictionary [name: 'Alice', 'city: 'Paris').\n",
        "person = {\n",
        "    'name': 'Alice',\n",
        "    'city': 'Paris'\n",
        "}\n",
        "\n",
        "if 'city' in person:\n",
        "    print(\"Key 'city' exists in the dictionary.\")\n",
        "else:\n",
        "    print(\"Key 'city' does not exist in the dictionary.\")"
      ],
      "metadata": {
        "colab": {
          "base_uri": "https://localhost:8080/"
        },
        "id": "oQ--BIDnrQcL",
        "outputId": "9c666797-43a6-4c90-c57a-9ebf051f4f41"
      },
      "execution_count": null,
      "outputs": [
        {
          "output_type": "stream",
          "name": "stdout",
          "text": [
            "Key 'city' exists in the dictionary.\n"
          ]
        }
      ]
    },
    {
      "cell_type": "code",
      "source": [
        "# 26- Write a code to create a list, a tuple, and a dictionary, and print them all.\n",
        "my_list = [1, 2, 3, 4, 5]\n",
        "\n",
        "my_tuple = ('apple', 'banana', 'cherry')\n",
        "\n",
        "my_dict = {\n",
        "    'name': 'John',\n",
        "    'age': 28,\n",
        "    'city': 'London'\n",
        "}\n",
        "\n",
        "print(\"List:\", my_list)\n",
        "print(\"Tuple:\", my_tuple)\n",
        "print(\"Dictionary:\", my_dict)"
      ],
      "metadata": {
        "colab": {
          "base_uri": "https://localhost:8080/"
        },
        "id": "tSu6945_r-kd",
        "outputId": "f6d0e04f-8085-4486-ddd9-c275d5313f4a"
      },
      "execution_count": null,
      "outputs": [
        {
          "output_type": "stream",
          "name": "stdout",
          "text": [
            "List: [1, 2, 3, 4, 5]\n",
            "Tuple: ('apple', 'banana', 'cherry')\n",
            "Dictionary: {'name': 'John', 'age': 28, 'city': 'London'}\n"
          ]
        }
      ]
    },
    {
      "cell_type": "code",
      "source": [
        "# 27-Write a code to create a list of 5 random numbers between 1 and 100, sort it in ascending order, and print the result.(replaced)\n",
        "import random\n",
        "random_numbers = random.sample(range(1, 101), 5)\n",
        "random_numbers.sort()\n",
        "print(\"Sorted random numbers:\", random_numbers)"
      ],
      "metadata": {
        "colab": {
          "base_uri": "https://localhost:8080/"
        },
        "id": "4tKMsSkrsxtK",
        "outputId": "4d58a715-010c-4ed2-e654-14bfb20599cf"
      },
      "execution_count": null,
      "outputs": [
        {
          "output_type": "stream",
          "name": "stdout",
          "text": [
            "Sorted random numbers: [4, 20, 50, 60, 73]\n"
          ]
        }
      ]
    },
    {
      "cell_type": "code",
      "source": [
        "# 28- Write a code to create a list with strings and print the element at the third index.\n",
        "fruits = [\"apple\", \"banana\", \"cherry\", \"orange\", \"grape\"]\n",
        "print(\"Element at index 3:\", fruits[3])"
      ],
      "metadata": {
        "colab": {
          "base_uri": "https://localhost:8080/"
        },
        "id": "JbuljWaduTI9",
        "outputId": "a0d82e66-0e3d-452b-c46a-d9ab2cc35931"
      },
      "execution_count": null,
      "outputs": [
        {
          "output_type": "stream",
          "name": "stdout",
          "text": [
            "Element at index 3: orange\n"
          ]
        }
      ]
    },
    {
      "cell_type": "code",
      "source": [
        "# 29- Write a code to combine two dictionaries into one and print the result.\n",
        "dict1 = {'a': 1, 'b': 2}\n",
        "dict2 = {'c': 3, 'd': 4}\n",
        "combined_dict = {**dict1, **dict2}\n",
        "print(\"Combined dictionary:\", combined_dict)"
      ],
      "metadata": {
        "colab": {
          "base_uri": "https://localhost:8080/"
        },
        "id": "sfcSJ_8pus5g",
        "outputId": "df6437ec-d4c2-41ba-b4c6-9bc2d7db1717"
      },
      "execution_count": null,
      "outputs": [
        {
          "output_type": "stream",
          "name": "stdout",
          "text": [
            "Combined dictionary: {'a': 1, 'b': 2, 'c': 3, 'd': 4}\n"
          ]
        }
      ]
    },
    {
      "cell_type": "code",
      "source": [
        "# 30-Write a code to convert a list of strings into a set.\n",
        "string_list = [\"apple\", \"banana\", \"cherry\", \"apple\"]\n",
        "string_set = set(string_list)\n",
        "print(\"Set:\", string_set)"
      ],
      "metadata": {
        "colab": {
          "base_uri": "https://localhost:8080/"
        },
        "id": "ePUh1ojWvMsE",
        "outputId": "5474beae-b3bb-4db5-dc19-3cf4546f0327"
      },
      "execution_count": null,
      "outputs": [
        {
          "output_type": "stream",
          "name": "stdout",
          "text": [
            "Set: {'apple', 'banana', 'cherry'}\n"
          ]
        }
      ]
    }
  ]
}